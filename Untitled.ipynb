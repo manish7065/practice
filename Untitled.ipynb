{
 "cells": [
  {
   "cell_type": "code",
   "execution_count": 1,
   "id": "407c33cf-3cad-4d8d-b8e4-b60bcd50ecde",
   "metadata": {},
   "outputs": [],
   "source": [
    "dict={}"
   ]
  },
  {
   "cell_type": "code",
   "execution_count": 4,
   "id": "10ef2f2b-1930-4c03-b38b-4d61f97d339a",
   "metadata": {},
   "outputs": [],
   "source": [
    "dict.update({'man':6})"
   ]
  },
  {
   "cell_type": "code",
   "execution_count": 5,
   "id": "c5eada6a-53e0-4aa0-95c4-17096756f455",
   "metadata": {},
   "outputs": [
    {
     "data": {
      "text/plain": [
       "{'man': 6}"
      ]
     },
     "execution_count": 5,
     "metadata": {},
     "output_type": "execute_result"
    }
   ],
   "source": [
    "dict"
   ]
  },
  {
   "cell_type": "code",
   "execution_count": 6,
   "id": "78fe2ffb-49eb-4f95-a743-c22e6b9dc9f7",
   "metadata": {},
   "outputs": [],
   "source": [
    "dict.update({'nil':0})"
   ]
  },
  {
   "cell_type": "code",
   "execution_count": 7,
   "id": "bd839a9d-5a63-4630-a85e-b2e2bf84403b",
   "metadata": {},
   "outputs": [
    {
     "data": {
      "text/plain": [
       "{'man': 6, 'nil': 0}"
      ]
     },
     "execution_count": 7,
     "metadata": {},
     "output_type": "execute_result"
    }
   ],
   "source": [
    "dict"
   ]
  },
  {
   "cell_type": "code",
   "execution_count": 15,
   "id": "eee4d069-e9d6-462a-bd50-b986904a6490",
   "metadata": {},
   "outputs": [
    {
     "name": "stdin",
     "output_type": "stream",
     "text": [
      " sam 123\n"
     ]
    },
    {
     "name": "stdout",
     "output_type": "stream",
     "text": [
      "{'sam': '123'}\n"
     ]
    }
   ],
   "source": [
    "phone_book={}\n",
    "x,y=(input().split())\n",
    "phone_book.update({x:y})\n",
    "print(phone_book)\n"
   ]
  },
  {
   "cell_type": "code",
   "execution_count": 10,
   "id": "6930bd5d-5017-4602-98d6-313a8f5fad44",
   "metadata": {},
   "outputs": [
    {
     "name": "stdin",
     "output_type": "stream",
     "text": [
      " man naman\n"
     ]
    },
    {
     "data": {
      "text/plain": [
       "['man', 'naman']"
      ]
     },
     "execution_count": 10,
     "metadata": {},
     "output_type": "execute_result"
    }
   ],
   "source": [
    "input().split()"
   ]
  },
  {
   "cell_type": "code",
   "execution_count": 18,
   "id": "f43dfbe1-2bf8-4aaa-92be-c73578905a64",
   "metadata": {},
   "outputs": [
    {
     "name": "stdout",
     "output_type": "stream",
     "text": [
      "man=123\n"
     ]
    }
   ],
   "source": [
    "print(f\"man={phone_book['sam']}\")"
   ]
  },
  {
   "cell_type": "code",
   "execution_count": null,
   "id": "3cbeceb3-244e-40aa-a82a-ff83c04bfa5e",
   "metadata": {},
   "outputs": [],
   "source": [
    "\n",
    "phone_book={}\n",
    "\n",
    "\n",
    "n=int(input())\n",
    "\n",
    "for i in range(n):\n",
    "    x,y=(input().split())\n",
    "    phone_book.update({x:y})\n",
    "    \n",
    "    \n",
    "    \n",
    "try:\n",
    "    while True:\n",
    "        m = input()\n",
    "        # process the input\n",
    "        if m in phone_book:\n",
    "            print(f\"{m}={phone_book[m]}\")    \n",
    "        else:\n",
    "            print(\"Not found\")\n",
    "except EOFError:\n",
    "    pass\n"
   ]
  }
 ],
 "metadata": {
  "kernelspec": {
   "display_name": "Python 3 (ipykernel)",
   "language": "python",
   "name": "python3"
  },
  "language_info": {
   "codemirror_mode": {
    "name": "ipython",
    "version": 3
   },
   "file_extension": ".py",
   "mimetype": "text/x-python",
   "name": "python",
   "nbconvert_exporter": "python",
   "pygments_lexer": "ipython3",
   "version": "3.10.8"
  }
 },
 "nbformat": 4,
 "nbformat_minor": 5
}
