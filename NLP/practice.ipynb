{
 "cells": [
  {
   "cell_type": "code",
   "execution_count": 1,
   "id": "c02d79ff-64c9-4ff6-88a1-0f30af3afe96",
   "metadata": {},
   "outputs": [],
   "source": [
    "paragraph = \"I am learning machine learning skillsets by ineuron and taking the advantane predesigned awesome couse designed by ineuron\""
   ]
  },
  {
   "cell_type": "code",
   "execution_count": 2,
   "id": "b4606768-09cf-4f1c-93ca-d52c9166df77",
   "metadata": {},
   "outputs": [
    {
     "name": "stdout",
     "output_type": "stream",
     "text": [
      "Collecting nltk\n",
      "  Downloading nltk-3.8.1-py3-none-any.whl (1.5 MB)\n",
      "\u001b[2K     \u001b[90m━━━━━━━━━━━━━━━━━━━━━━━━━━━━━━━━━━━━━━━━\u001b[0m \u001b[32m1.5/1.5 MB\u001b[0m \u001b[31m13.9 MB/s\u001b[0m eta \u001b[36m0:00:00\u001b[0m00:01\u001b[0m0:01\u001b[0m\n",
      "\u001b[?25hRequirement already satisfied: click in /opt/conda/lib/python3.10/site-packages (from nltk) (8.1.3)\n",
      "Collecting regex>=2021.8.3\n",
      "  Downloading regex-2022.10.31-cp310-cp310-manylinux_2_17_x86_64.manylinux2014_x86_64.whl (770 kB)\n",
      "\u001b[2K     \u001b[90m━━━━━━━━━━━━━━━━━━━━━━━━━━━━━━━━━━━━━━\u001b[0m \u001b[32m770.5/770.5 kB\u001b[0m \u001b[31m61.1 MB/s\u001b[0m eta \u001b[36m0:00:00\u001b[0m\n",
      "\u001b[?25hRequirement already satisfied: tqdm in /opt/conda/lib/python3.10/site-packages (from nltk) (4.64.1)\n",
      "Requirement already satisfied: joblib in /opt/conda/lib/python3.10/site-packages (from nltk) (1.2.0)\n",
      "Installing collected packages: regex, nltk\n",
      "Successfully installed nltk-3.8.1 regex-2022.10.31\n"
     ]
    }
   ],
   "source": [
    "!pip install nltk\n"
   ]
  },
  {
   "cell_type": "code",
   "execution_count": null,
   "id": "bafca640-19f2-4e4a-8d1f-a6e87ee0df0f",
   "metadata": {},
   "outputs": [],
   "source": []
  },
  {
   "cell_type": "code",
   "execution_count": 3,
   "id": "de53e7b4-2893-4401-92ed-a734cc16ca21",
   "metadata": {},
   "outputs": [
    {
     "name": "stderr",
     "output_type": "stream",
     "text": [
      "[nltk_data] Downloading package punkt to /home/jovyan/nltk_data...\n",
      "[nltk_data]   Unzipping tokenizers/punkt.zip.\n"
     ]
    },
    {
     "data": {
      "text/plain": [
       "True"
      ]
     },
     "execution_count": 3,
     "metadata": {},
     "output_type": "execute_result"
    }
   ],
   "source": [
    "import nltk\n",
    "nltk.download('punkt')\n"
   ]
  },
  {
   "cell_type": "code",
   "execution_count": 4,
   "id": "fb999457-17c3-4f73-bbcf-509d4904d35a",
   "metadata": {},
   "outputs": [
    {
     "data": {
      "text/plain": [
       "['I am learning machine learning skillsets by ineuron and taking the advantane predesigned awesome couse designed by ineuron']"
      ]
     },
     "execution_count": 4,
     "metadata": {},
     "output_type": "execute_result"
    }
   ],
   "source": [
    "nltk.sent_tokenize(paragraph)"
   ]
  },
  {
   "cell_type": "code",
   "execution_count": 5,
   "id": "fdd5b16b-518e-48fc-b017-64fed6e7574c",
   "metadata": {},
   "outputs": [
    {
     "name": "stdout",
     "output_type": "stream",
     "text": [
      "['Hello there!', 'How are you doing today?', 'I hope you are doing well.', 'Have a great day ahead!']\n"
     ]
    }
   ],
   "source": [
    "import nltk\n",
    "\n",
    "paragraph = \"Hello there! How are you doing today? I hope you are doing well. Have a great day ahead!\"\n",
    "\n",
    "sentences = nltk.sent_tokenize(paragraph)\n",
    "\n",
    "print(sentences)\n",
    "\n"
   ]
  },
  {
   "cell_type": "code",
   "execution_count": null,
   "id": "37eaba80-3d92-4b7d-bc9b-65c8217675dd",
   "metadata": {},
   "outputs": [],
   "source": []
  },
  {
   "cell_type": "code",
   "execution_count": 6,
   "id": "6c807dc8-61c3-4c63-8729-fc5470c573c3",
   "metadata": {},
   "outputs": [
    {
     "data": {
      "text/plain": [
       "['Hello',\n",
       " 'there',\n",
       " '!',\n",
       " 'How',\n",
       " 'are',\n",
       " 'you',\n",
       " 'doing',\n",
       " 'today',\n",
       " '?',\n",
       " 'I',\n",
       " 'hope',\n",
       " 'you',\n",
       " 'are',\n",
       " 'doing',\n",
       " 'well',\n",
       " '.',\n",
       " 'Have',\n",
       " 'a',\n",
       " 'great',\n",
       " 'day',\n",
       " 'ahead',\n",
       " '!']"
      ]
     },
     "execution_count": 6,
     "metadata": {},
     "output_type": "execute_result"
    }
   ],
   "source": [
    "nltk.word_tokenize(paragraph)"
   ]
  },
  {
   "cell_type": "code",
   "execution_count": 7,
   "id": "8369df1b-869f-47a5-a06e-93cb73c007e2",
   "metadata": {},
   "outputs": [],
   "source": [
    "#stemming\n",
    "from nltk.stem import PorterStemmer"
   ]
  },
  {
   "cell_type": "code",
   "execution_count": 8,
   "id": "a07eda71-37a5-4ab8-a339-9955b75827a1",
   "metadata": {},
   "outputs": [],
   "source": [
    "stemmer = PorterStemmer()"
   ]
  },
  {
   "cell_type": "code",
   "execution_count": 9,
   "id": "fccf1a22-1c54-4310-9414-692ad50a09e0",
   "metadata": {},
   "outputs": [
    {
     "data": {
      "text/plain": [
       "'happi'"
      ]
     },
     "execution_count": 9,
     "metadata": {},
     "output_type": "execute_result"
    }
   ],
   "source": [
    "stemmer.stem(\"happy\")"
   ]
  },
  {
   "cell_type": "code",
   "execution_count": 10,
   "id": "b96cd609-b3c5-40ed-97de-e6cf7a90f6d4",
   "metadata": {},
   "outputs": [
    {
     "data": {
      "text/plain": [
       "['Hello',\n",
       " 'there',\n",
       " '!',\n",
       " 'How',\n",
       " 'are',\n",
       " 'you',\n",
       " 'doing',\n",
       " 'today',\n",
       " '?',\n",
       " 'I',\n",
       " 'hope',\n",
       " 'you',\n",
       " 'are',\n",
       " 'doing',\n",
       " 'well',\n",
       " '.',\n",
       " 'Have',\n",
       " 'a',\n",
       " 'great',\n",
       " 'day',\n",
       " 'ahead',\n",
       " '!']"
      ]
     },
     "execution_count": 10,
     "metadata": {},
     "output_type": "execute_result"
    }
   ],
   "source": [
    "words=nltk.word_tokenize(paragraph)\n",
    "words"
   ]
  },
  {
   "cell_type": "code",
   "execution_count": 11,
   "id": "2295dbc6-65d1-4a34-acc2-facafbd840ab",
   "metadata": {},
   "outputs": [
    {
     "name": "stdout",
     "output_type": "stream",
     "text": [
      "hello\n",
      "there\n",
      "!\n",
      "how\n",
      "are\n",
      "you\n",
      "do\n",
      "today\n",
      "?\n",
      "i\n",
      "hope\n",
      "you\n",
      "are\n",
      "do\n",
      "well\n",
      ".\n",
      "have\n",
      "a\n",
      "great\n",
      "day\n",
      "ahead\n",
      "!\n"
     ]
    }
   ],
   "source": [
    "for i in words:\n",
    "    a=stemmer.stem(i)\n",
    "    print(a)\n",
    "    "
   ]
  },
  {
   "cell_type": "code",
   "execution_count": 12,
   "id": "58c3d2c3-657a-42ba-861c-9ee817623d00",
   "metadata": {},
   "outputs": [],
   "source": [
    "#Lematization: give meaningful words"
   ]
  },
  {
   "cell_type": "code",
   "execution_count": 13,
   "id": "5d77e3b3-0083-4153-acf2-e3597a821af5",
   "metadata": {},
   "outputs": [],
   "source": [
    "from nltk.stem import WordNetLemmatizer"
   ]
  },
  {
   "cell_type": "code",
   "execution_count": 14,
   "id": "55941a85-ae81-4799-b07c-ba8964c419e5",
   "metadata": {},
   "outputs": [],
   "source": [
    "lemmatizer = WordNetLemmatizer()"
   ]
  },
  {
   "cell_type": "code",
   "execution_count": 15,
   "id": "1ce7211c-afc7-487a-a43a-e551c2ddf310",
   "metadata": {},
   "outputs": [
    {
     "name": "stderr",
     "output_type": "stream",
     "text": [
      "[nltk_data] Downloading package wordnet to /home/jovyan/nltk_data...\n"
     ]
    },
    {
     "data": {
      "text/plain": [
       "True"
      ]
     },
     "execution_count": 15,
     "metadata": {},
     "output_type": "execute_result"
    }
   ],
   "source": [
    "nltk.download('wordnet')"
   ]
  },
  {
   "cell_type": "code",
   "execution_count": 16,
   "id": "0c7254dc-5835-4a61-8b2f-64d21b70b5fc",
   "metadata": {},
   "outputs": [
    {
     "data": {
      "text/plain": [
       "'grape'"
      ]
     },
     "execution_count": 16,
     "metadata": {},
     "output_type": "execute_result"
    }
   ],
   "source": [
    "lemmatizer.lemmatize(\"grapes\")"
   ]
  },
  {
   "cell_type": "code",
   "execution_count": 17,
   "id": "3e5dd925-0e61-459e-853b-f640d9cb9cb9",
   "metadata": {},
   "outputs": [
    {
     "data": {
      "text/plain": [
       "'wellness'"
      ]
     },
     "execution_count": 17,
     "metadata": {},
     "output_type": "execute_result"
    }
   ],
   "source": [
    "lemmatizer.lemmatize(\"wellness\")"
   ]
  },
  {
   "cell_type": "code",
   "execution_count": 18,
   "id": "ed05b9fa-3b54-4b3f-9ef0-566780918f75",
   "metadata": {},
   "outputs": [
    {
     "name": "stderr",
     "output_type": "stream",
     "text": [
      "[nltk_data] Downloading package wordnet to /home/jovyan/nltk_data...\n",
      "[nltk_data]   Package wordnet is already up-to-date!\n"
     ]
    },
    {
     "data": {
      "text/plain": [
       "True"
      ]
     },
     "execution_count": 18,
     "metadata": {},
     "output_type": "execute_result"
    }
   ],
   "source": [
    "nltk.download('wordnet')"
   ]
  },
  {
   "cell_type": "code",
   "execution_count": 19,
   "id": "eb9749d1-bc51-4baa-b162-ae614d69c100",
   "metadata": {},
   "outputs": [
    {
     "data": {
      "text/plain": [
       "['Hello there!',\n",
       " 'How are you doing today?',\n",
       " 'I hope you are doing well.',\n",
       " 'Have a great day ahead!']"
      ]
     },
     "execution_count": 19,
     "metadata": {},
     "output_type": "execute_result"
    }
   ],
   "source": [
    "sentences"
   ]
  },
  {
   "cell_type": "code",
   "execution_count": 20,
   "id": "174bfcc4-0f50-4966-ba13-d6c96ce69fa5",
   "metadata": {},
   "outputs": [
    {
     "name": "stdout",
     "output_type": "stream",
     "text": [
      "['hello', 'there', '!']\n",
      "['how', 'are', 'you', 'do', 'today', '?']\n",
      "['i', 'hope', 'you', 'are', 'do', 'well', '.']\n",
      "['have', 'a', 'great', 'day', 'ahead', '!']\n"
     ]
    }
   ],
   "source": [
    "corpus = []\n",
    "for i in range(len(sentences)):\n",
    "    words = nltk.word_tokenize(sentences[i])\n",
    "    words=[stemmer.stem(word) for word in words]\n",
    "    print(words)\n",
    "    corpus.append(' '.join(words))\n",
    "    "
   ]
  },
  {
   "cell_type": "code",
   "execution_count": 21,
   "id": "55d44409-f55e-44ce-b55f-ac53f16b2b6c",
   "metadata": {},
   "outputs": [
    {
     "data": {
      "text/plain": [
       "['hello there !',\n",
       " 'how are you do today ?',\n",
       " 'i hope you are do well .',\n",
       " 'have a great day ahead !']"
      ]
     },
     "execution_count": 21,
     "metadata": {},
     "output_type": "execute_result"
    }
   ],
   "source": [
    "corpus"
   ]
  },
  {
   "cell_type": "code",
   "execution_count": 22,
   "id": "45e78fbe-1945-4f6e-890b-f9ae6f1a656b",
   "metadata": {},
   "outputs": [
    {
     "name": "stdout",
     "output_type": "stream",
     "text": [
      "['Hello', 'there', '!']\n",
      "['How', 'are', 'you', 'doing', 'today', '?']\n",
      "['I', 'hope', 'you', 'are', 'doing', 'well', '.']\n",
      "['Have', 'a', 'great', 'day', 'ahead', '!']\n"
     ]
    }
   ],
   "source": [
    "corpus = []\n",
    "for i in range(len(sentences)):\n",
    "    words = nltk.word_tokenize(sentences[i])\n",
    "    words=[lemmatizer.lemmatize(word) for word in words]\n",
    "    print(words)\n",
    "    corpus.append(' '.join(words))\n",
    "    "
   ]
  },
  {
   "cell_type": "code",
   "execution_count": 23,
   "id": "1c2da790-9701-4e6e-9272-cbdedeb5e7bb",
   "metadata": {},
   "outputs": [],
   "source": [
    "paragraph = \"Ratan Naval Tata (born 28 December 1937) is an Indian Industrialist and former chairman of Tata Sons. He was also the chairman of the Tata Group from 1990 to 2012, serving also as interim chairman from October 2016 through February 2017. He continues to head its charitable trusts.[2][3] In 2008, he received the Padma Vibhushan, the second highest civilian honour in India, after receiving the Padma Bhushan, the third highest civilian honour in 2000.[4]He is the son of Naval Tata, who was adopted by Ratanji Tata, son of Jamsetji Tata, the founder of the Tata Group. He graduated from the Cornell University College of Architecture with a bachelor's degree in architecture.[5] He joined Tata in 1961, where he worked on the shop floor of Tata Steel. He later succeeded J. R. D. Tata's as chairman of Tata Sons upon the latter's retirement in 1991. Under his tenure the Tata Group acquired Tetley, Jaguar Land Rover, and Corus, in an attempt to turn Tata from a largely India-centric group into a global business. Tata is also one of the largest philanthropists in the world, having donated around 60–65% of his income to charity.\""
   ]
  },
  {
   "cell_type": "code",
   "execution_count": 24,
   "id": "e0b5ab65-5514-4100-8e23-e67487189feb",
   "metadata": {},
   "outputs": [
    {
     "data": {
      "text/plain": [
       "\"Ratan Naval Tata (born 28 December 1937) is an Indian Industrialist and former chairman of Tata Sons. He was also the chairman of the Tata Group from 1990 to 2012, serving also as interim chairman from October 2016 through February 2017. He continues to head its charitable trusts.[2][3] In 2008, he received the Padma Vibhushan, the second highest civilian honour in India, after receiving the Padma Bhushan, the third highest civilian honour in 2000.[4]He is the son of Naval Tata, who was adopted by Ratanji Tata, son of Jamsetji Tata, the founder of the Tata Group. He graduated from the Cornell University College of Architecture with a bachelor's degree in architecture.[5] He joined Tata in 1961, where he worked on the shop floor of Tata Steel. He later succeeded J. R. D. Tata's as chairman of Tata Sons upon the latter's retirement in 1991. Under his tenure the Tata Group acquired Tetley, Jaguar Land Rover, and Corus, in an attempt to turn Tata from a largely India-centric group into a global business. Tata is also one of the largest philanthropists in the world, having donated around 60–65% of his income to charity.\""
      ]
     },
     "execution_count": 24,
     "metadata": {},
     "output_type": "execute_result"
    }
   ],
   "source": [
    "paragraph\n"
   ]
  },
  {
   "cell_type": "code",
   "execution_count": 25,
   "id": "a6d3d473-43cc-49b9-829f-08b1ab3cf324",
   "metadata": {},
   "outputs": [],
   "source": [
    "sentences = nltk.sent_tokenize(paragraph)"
   ]
  },
  {
   "cell_type": "code",
   "execution_count": 26,
   "id": "5af22430-1bf2-4cea-b016-30e73c2302a0",
   "metadata": {},
   "outputs": [
    {
     "data": {
      "text/plain": [
       "['Ratan Naval Tata (born 28 December 1937) is an Indian Industrialist and former chairman of Tata Sons.',\n",
       " 'He was also the chairman of the Tata Group from 1990 to 2012, serving also as interim chairman from October 2016 through February 2017.',\n",
       " 'He continues to head its charitable trusts.',\n",
       " '[2][3] In 2008, he received the Padma Vibhushan, the second highest civilian honour in India, after receiving the Padma Bhushan, the third highest civilian honour in 2000.',\n",
       " '[4]He is the son of Naval Tata, who was adopted by Ratanji Tata, son of Jamsetji Tata, the founder of the Tata Group.',\n",
       " \"He graduated from the Cornell University College of Architecture with a bachelor's degree in architecture.\",\n",
       " '[5] He joined Tata in 1961, where he worked on the shop floor of Tata Steel.',\n",
       " \"He later succeeded J. R. D. Tata's as chairman of Tata Sons upon the latter's retirement in 1991.\",\n",
       " 'Under his tenure the Tata Group acquired Tetley, Jaguar Land Rover, and Corus, in an attempt to turn Tata from a largely India-centric group into a global business.',\n",
       " 'Tata is also one of the largest philanthropists in the world, having donated around 60–65% of his income to charity.']"
      ]
     },
     "execution_count": 26,
     "metadata": {},
     "output_type": "execute_result"
    }
   ],
   "source": [
    "sentences"
   ]
  },
  {
   "cell_type": "code",
   "execution_count": 27,
   "id": "2f2a7750-3e81-45cb-b7d6-cc0332fcd53a",
   "metadata": {},
   "outputs": [
    {
     "name": "stdout",
     "output_type": "stream",
     "text": [
      "['ratan', 'naval', 'tata', '(', 'born', '28', 'decemb', '1937', ')', 'is', 'an', 'indian', 'industrialist', 'and', 'former', 'chairman', 'of', 'tata', 'son', '.']\n",
      "['he', 'wa', 'also', 'the', 'chairman', 'of', 'the', 'tata', 'group', 'from', '1990', 'to', '2012', ',', 'serv', 'also', 'as', 'interim', 'chairman', 'from', 'octob', '2016', 'through', 'februari', '2017', '.']\n",
      "['he', 'continu', 'to', 'head', 'it', 'charit', 'trust', '.']\n",
      "['[', '2', ']', '[', '3', ']', 'in', '2008', ',', 'he', 'receiv', 'the', 'padma', 'vibhushan', ',', 'the', 'second', 'highest', 'civilian', 'honour', 'in', 'india', ',', 'after', 'receiv', 'the', 'padma', 'bhushan', ',', 'the', 'third', 'highest', 'civilian', 'honour', 'in', '2000', '.']\n",
      "['[', '4', ']', 'he', 'is', 'the', 'son', 'of', 'naval', 'tata', ',', 'who', 'wa', 'adopt', 'by', 'ratanji', 'tata', ',', 'son', 'of', 'jamsetji', 'tata', ',', 'the', 'founder', 'of', 'the', 'tata', 'group', '.']\n",
      "['he', 'graduat', 'from', 'the', 'cornel', 'univers', 'colleg', 'of', 'architectur', 'with', 'a', 'bachelor', \"'s\", 'degre', 'in', 'architectur', '.']\n",
      "['[', '5', ']', 'he', 'join', 'tata', 'in', '1961', ',', 'where', 'he', 'work', 'on', 'the', 'shop', 'floor', 'of', 'tata', 'steel', '.']\n",
      "['he', 'later', 'succeed', 'j.', 'r.', 'd.', 'tata', \"'s\", 'as', 'chairman', 'of', 'tata', 'son', 'upon', 'the', 'latter', \"'s\", 'retir', 'in', '1991', '.']\n",
      "['under', 'hi', 'tenur', 'the', 'tata', 'group', 'acquir', 'tetley', ',', 'jaguar', 'land', 'rover', ',', 'and', 'coru', ',', 'in', 'an', 'attempt', 'to', 'turn', 'tata', 'from', 'a', 'larg', 'india-centr', 'group', 'into', 'a', 'global', 'busi', '.']\n",
      "['tata', 'is', 'also', 'one', 'of', 'the', 'largest', 'philanthropist', 'in', 'the', 'world', ',', 'have', 'donat', 'around', '60–65', '%', 'of', 'hi', 'incom', 'to', 'chariti', '.']\n"
     ]
    }
   ],
   "source": [
    "corpus = []\n",
    "for i in range(len(sentences)):\n",
    "    words = nltk.word_tokenize(sentences[i])\n",
    "    words=[stemmer.stem(word) for word in words]\n",
    "    print(words)\n",
    "    corpus.append(' '.join(words))"
   ]
  },
  {
   "cell_type": "code",
   "execution_count": 28,
   "id": "46858683-d9df-4013-83d4-d00f07eb8d08",
   "metadata": {},
   "outputs": [
    {
     "name": "stdout",
     "output_type": "stream",
     "text": [
      "['Ratan', 'Naval', 'Tata', '(', 'born', '28', 'December', '1937', ')', 'is', 'an', 'Indian', 'Industrialist', 'and', 'former', 'chairman', 'of', 'Tata', 'Sons', '.']\n",
      "['He', 'wa', 'also', 'the', 'chairman', 'of', 'the', 'Tata', 'Group', 'from', '1990', 'to', '2012', ',', 'serving', 'also', 'a', 'interim', 'chairman', 'from', 'October', '2016', 'through', 'February', '2017', '.']\n",
      "['He', 'continues', 'to', 'head', 'it', 'charitable', 'trust', '.']\n",
      "['[', '2', ']', '[', '3', ']', 'In', '2008', ',', 'he', 'received', 'the', 'Padma', 'Vibhushan', ',', 'the', 'second', 'highest', 'civilian', 'honour', 'in', 'India', ',', 'after', 'receiving', 'the', 'Padma', 'Bhushan', ',', 'the', 'third', 'highest', 'civilian', 'honour', 'in', '2000', '.']\n",
      "['[', '4', ']', 'He', 'is', 'the', 'son', 'of', 'Naval', 'Tata', ',', 'who', 'wa', 'adopted', 'by', 'Ratanji', 'Tata', ',', 'son', 'of', 'Jamsetji', 'Tata', ',', 'the', 'founder', 'of', 'the', 'Tata', 'Group', '.']\n",
      "['He', 'graduated', 'from', 'the', 'Cornell', 'University', 'College', 'of', 'Architecture', 'with', 'a', 'bachelor', \"'s\", 'degree', 'in', 'architecture', '.']\n",
      "['[', '5', ']', 'He', 'joined', 'Tata', 'in', '1961', ',', 'where', 'he', 'worked', 'on', 'the', 'shop', 'floor', 'of', 'Tata', 'Steel', '.']\n",
      "['He', 'later', 'succeeded', 'J.', 'R.', 'D.', 'Tata', \"'s\", 'a', 'chairman', 'of', 'Tata', 'Sons', 'upon', 'the', 'latter', \"'s\", 'retirement', 'in', '1991', '.']\n",
      "['Under', 'his', 'tenure', 'the', 'Tata', 'Group', 'acquired', 'Tetley', ',', 'Jaguar', 'Land', 'Rover', ',', 'and', 'Corus', ',', 'in', 'an', 'attempt', 'to', 'turn', 'Tata', 'from', 'a', 'largely', 'India-centric', 'group', 'into', 'a', 'global', 'business', '.']\n",
      "['Tata', 'is', 'also', 'one', 'of', 'the', 'largest', 'philanthropist', 'in', 'the', 'world', ',', 'having', 'donated', 'around', '60–65', '%', 'of', 'his', 'income', 'to', 'charity', '.']\n"
     ]
    }
   ],
   "source": [
    "corpus = []\n",
    "for i in range(len(sentences)):\n",
    "    words = nltk.word_tokenize(sentences[i])\n",
    "    words=[lemmatizer.lemmatize(word) for word in words]\n",
    "    print(words)\n",
    "    corpus.append(' '.join(words))"
   ]
  },
  {
   "cell_type": "code",
   "execution_count": 29,
   "id": "98b1bc63-6f1b-45b4-b79c-d15bebccd4ff",
   "metadata": {},
   "outputs": [
    {
     "data": {
      "text/plain": [
       "['Ratan Naval Tata ( born 28 December 1937 ) is an Indian Industrialist and former chairman of Tata Sons .',\n",
       " 'He wa also the chairman of the Tata Group from 1990 to 2012 , serving also a interim chairman from October 2016 through February 2017 .',\n",
       " 'He continues to head it charitable trust .',\n",
       " '[ 2 ] [ 3 ] In 2008 , he received the Padma Vibhushan , the second highest civilian honour in India , after receiving the Padma Bhushan , the third highest civilian honour in 2000 .',\n",
       " '[ 4 ] He is the son of Naval Tata , who wa adopted by Ratanji Tata , son of Jamsetji Tata , the founder of the Tata Group .',\n",
       " \"He graduated from the Cornell University College of Architecture with a bachelor 's degree in architecture .\",\n",
       " '[ 5 ] He joined Tata in 1961 , where he worked on the shop floor of Tata Steel .',\n",
       " \"He later succeeded J. R. D. Tata 's a chairman of Tata Sons upon the latter 's retirement in 1991 .\",\n",
       " 'Under his tenure the Tata Group acquired Tetley , Jaguar Land Rover , and Corus , in an attempt to turn Tata from a largely India-centric group into a global business .',\n",
       " 'Tata is also one of the largest philanthropist in the world , having donated around 60–65 % of his income to charity .']"
      ]
     },
     "execution_count": 29,
     "metadata": {},
     "output_type": "execute_result"
    }
   ],
   "source": [
    "corpus"
   ]
  },
  {
   "cell_type": "code",
   "execution_count": 30,
   "id": "4f4c3086-d990-4523-81c6-d9a5a19e97cb",
   "metadata": {},
   "outputs": [
    {
     "name": "stderr",
     "output_type": "stream",
     "text": [
      "[nltk_data] Downloading package stopwords to /home/jovyan/nltk_data...\n",
      "[nltk_data]   Unzipping corpora/stopwords.zip.\n"
     ]
    },
    {
     "data": {
      "text/plain": [
       "True"
      ]
     },
     "execution_count": 30,
     "metadata": {},
     "output_type": "execute_result"
    }
   ],
   "source": [
    "nltk.download(\"stopwords\")"
   ]
  },
  {
   "cell_type": "code",
   "execution_count": 31,
   "id": "f11a0efc-2843-4e5e-a652-83bd64dfd273",
   "metadata": {},
   "outputs": [],
   "source": [
    "from nltk.corpus import stopwords\n",
    "stopwords=stopwords.words('english')"
   ]
  },
  {
   "cell_type": "code",
   "execution_count": 32,
   "id": "d463ce9d-c80f-44db-a832-09e77220fdce",
   "metadata": {},
   "outputs": [
    {
     "data": {
      "text/plain": [
       "'good'"
      ]
     },
     "execution_count": 32,
     "metadata": {},
     "output_type": "execute_result"
    }
   ],
   "source": [
    "lemmatizer.lemmatize('better',pos='a')"
   ]
  },
  {
   "cell_type": "code",
   "execution_count": 33,
   "id": "feaef905-651d-455d-8927-d758f13f5d0b",
   "metadata": {},
   "outputs": [
    {
     "data": {
      "text/plain": [
       "'wa'"
      ]
     },
     "execution_count": 33,
     "metadata": {},
     "output_type": "execute_result"
    }
   ],
   "source": [
    "lemmatizer.lemmatize('was')"
   ]
  },
  {
   "cell_type": "code",
   "execution_count": 34,
   "id": "e433997c-5868-48cc-a903-40a2d0782c67",
   "metadata": {},
   "outputs": [],
   "source": [
    "from sklearn.feature_extraction.text import CountVectorizer"
   ]
  },
  {
   "cell_type": "code",
   "execution_count": 35,
   "id": "4de8c70c-e978-488b-961b-f90b6d9c702e",
   "metadata": {},
   "outputs": [
    {
     "data": {
      "text/plain": [
       "['Ratan Naval Tata (born 28 December 1937) is an Indian Industrialist and former chairman of Tata Sons.',\n",
       " 'He was also the chairman of the Tata Group from 1990 to 2012, serving also as interim chairman from October 2016 through February 2017.',\n",
       " 'He continues to head its charitable trusts.',\n",
       " '[2][3] In 2008, he received the Padma Vibhushan, the second highest civilian honour in India, after receiving the Padma Bhushan, the third highest civilian honour in 2000.',\n",
       " '[4]He is the son of Naval Tata, who was adopted by Ratanji Tata, son of Jamsetji Tata, the founder of the Tata Group.',\n",
       " \"He graduated from the Cornell University College of Architecture with a bachelor's degree in architecture.\",\n",
       " '[5] He joined Tata in 1961, where he worked on the shop floor of Tata Steel.',\n",
       " \"He later succeeded J. R. D. Tata's as chairman of Tata Sons upon the latter's retirement in 1991.\",\n",
       " 'Under his tenure the Tata Group acquired Tetley, Jaguar Land Rover, and Corus, in an attempt to turn Tata from a largely India-centric group into a global business.',\n",
       " 'Tata is also one of the largest philanthropists in the world, having donated around 60–65% of his income to charity.']"
      ]
     },
     "execution_count": 35,
     "metadata": {},
     "output_type": "execute_result"
    }
   ],
   "source": [
    "sentences"
   ]
  },
  {
   "cell_type": "code",
   "execution_count": 41,
   "id": "b4864a2b-fb31-4818-951b-e70711c38405",
   "metadata": {},
   "outputs": [
    {
     "name": "stdout",
     "output_type": "stream",
     "text": [
      "['ratan', 'naval', 'tata', '(', 'born', '28', 'decemb', '1937', ')', 'indian', 'industrialist', 'former', 'chairman', 'tata', 'son', '.']\n",
      "['he', 'also', 'chairman', 'tata', 'group', '1990', '2012', ',', 'serv', 'also', 'interim', 'chairman', 'octob', '2016', 'februari', '2017', '.']\n",
      "['he', 'continu', 'head', 'charit', 'trust', '.']\n",
      "['[', '2', ']', '[', '3', ']', 'in', '2008', ',', 'receiv', 'padma', 'vibhushan', ',', 'second', 'highest', 'civilian', 'honour', 'india', ',', 'receiv', 'padma', 'bhushan', ',', 'third', 'highest', 'civilian', 'honour', '2000', '.']\n",
      "['[', '4', ']', 'he', 'son', 'naval', 'tata', ',', 'adopt', 'ratanji', 'tata', ',', 'son', 'jamsetji', 'tata', ',', 'founder', 'tata', 'group', '.']\n",
      "['he', 'graduat', 'cornel', 'univers', 'colleg', 'architectur', 'bachelor', \"'s\", 'degre', 'architectur', '.']\n",
      "['[', '5', ']', 'he', 'join', 'tata', '1961', ',', 'work', 'shop', 'floor', 'tata', 'steel', '.']\n",
      "['he', 'later', 'succeed', 'j.', 'r.', 'd.', 'tata', \"'s\", 'chairman', 'tata', 'son', 'upon', 'latter', \"'s\", 'retir', '1991', '.']\n",
      "['under', 'tenur', 'tata', 'group', 'acquir', 'tetley', ',', 'jaguar', 'land', 'rover', ',', 'coru', ',', 'attempt', 'turn', 'tata', 'larg', 'india-centr', 'group', 'global', 'busi', '.']\n",
      "['tata', 'also', 'one', 'largest', 'philanthropist', 'world', ',', 'donat', 'around', '60–65', '%', 'incom', 'chariti', '.']\n"
     ]
    }
   ],
   "source": [
    "corpus = []\n",
    "for i in range(len(sentences)):\n",
    "    words = nltk.word_tokenize(sentences[i])\n",
    "    words = [stemmer.stem(word) for word in words if not word in stopwords]\n",
    "    print(words)\n",
    "    corpus.append(\" \".join(words))"
   ]
  },
  {
   "cell_type": "code",
   "execution_count": 42,
   "id": "5542aa18-0927-4d50-aa42-caf79abb6797",
   "metadata": {},
   "outputs": [
    {
     "data": {
      "text/plain": [
       "['ratan naval tata ( born 28 decemb 1937 ) indian industrialist former chairman tata son .',\n",
       " 'he also chairman tata group 1990 2012 , serv also interim chairman octob 2016 februari 2017 .',\n",
       " 'he continu head charit trust .',\n",
       " '[ 2 ] [ 3 ] in 2008 , receiv padma vibhushan , second highest civilian honour india , receiv padma bhushan , third highest civilian honour 2000 .',\n",
       " '[ 4 ] he son naval tata , adopt ratanji tata , son jamsetji tata , founder tata group .',\n",
       " \"he graduat cornel univers colleg architectur bachelor 's degre architectur .\",\n",
       " '[ 5 ] he join tata 1961 , work shop floor tata steel .',\n",
       " \"he later succeed j. r. d. tata 's chairman tata son upon latter 's retir 1991 .\",\n",
       " 'under tenur tata group acquir tetley , jaguar land rover , coru , attempt turn tata larg india-centr group global busi .',\n",
       " 'tata also one largest philanthropist world , donat around 60–65 % incom chariti .']"
      ]
     },
     "execution_count": 42,
     "metadata": {},
     "output_type": "execute_result"
    }
   ],
   "source": [
    "corpus"
   ]
  },
  {
   "cell_type": "code",
   "execution_count": 45,
   "id": "601605ee-0f53-4e10-8b9e-2529de83f93f",
   "metadata": {},
   "outputs": [
    {
     "ename": "TypeError",
     "evalue": "list indices must be integers or slices, not str",
     "output_type": "error",
     "traceback": [
      "\u001b[0;31m---------------------------------------------------------------------------\u001b[0m",
      "\u001b[0;31mTypeError\u001b[0m                                 Traceback (most recent call last)",
      "Cell \u001b[0;32mIn[45], line 1\u001b[0m\n\u001b[0;32m----> 1\u001b[0m \u001b[43mstopwords\u001b[49m\u001b[43m[\u001b[49m\u001b[38;5;124;43m'\u001b[39;49m\u001b[38;5;124;43mhe\u001b[39;49m\u001b[38;5;124;43m'\u001b[39;49m\u001b[43m]\u001b[49m\n",
      "\u001b[0;31mTypeError\u001b[0m: list indices must be integers or slices, not str"
     ]
    }
   ],
   "source": [
    "\n"
   ]
  },
  {
   "cell_type": "code",
   "execution_count": null,
   "id": "ac1ca72a-1b86-4e33-8a7f-28cbba09cddc",
   "metadata": {},
   "outputs": [],
   "source": []
  }
 ],
 "metadata": {
  "kernelspec": {
   "display_name": "Python 3 (ipykernel)",
   "language": "python",
   "name": "python3"
  },
  "language_info": {
   "codemirror_mode": {
    "name": "ipython",
    "version": 3
   },
   "file_extension": ".py",
   "mimetype": "text/x-python",
   "name": "python",
   "nbconvert_exporter": "python",
   "pygments_lexer": "ipython3",
   "version": "3.10.8"
  }
 },
 "nbformat": 4,
 "nbformat_minor": 5
}
