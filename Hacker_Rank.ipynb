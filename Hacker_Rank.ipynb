{
 "cells": [
  {
   "cell_type": "code",
   "execution_count": 21,
   "id": "c4f19874-bf70-4231-b0aa-1816ab94e57c",
   "metadata": {},
   "outputs": [
    {
     "name": "stdin",
     "output_type": "stream",
     "text": [
      " Man Hi\n"
     ]
    },
    {
     "name": "stdout",
     "output_type": "stream",
     "text": [
      "m\n",
      "mA\n",
      "mAN\n",
      "mAN h\n",
      "mAN hI\n",
      "mAN hI\n",
      "mAN hI\n"
     ]
    }
   ],
   "source": [
    "# https://www.hackerrank.com/challenges/swap-case/problem?isFullScreen=true\n",
    "def swap_case(s):\n",
    "    \n",
    "    letter=\"\"\n",
    "    for i in s:\n",
    "        if i.islower():\n",
    "            # print(f\"{i} letter is lower\")\n",
    "            letter=letter+i.upper()\n",
    "            # print(letter)\n",
    "            \n",
    "        elif i.isupper():\n",
    "            # print(f\"{i} letter is upper\")\n",
    "            letter=letter+i.lower()\n",
    "            # print(letter)\n",
    "            \n",
    "        else:\n",
    "            letter=letter + \" \"\n",
    "            \n",
    "            \n",
    "    print(letter)\n",
    "    return letter\n",
    "\n",
    "if __name__ == '__main__':\n",
    "    s = input()\n",
    "    result = swap_case(s)\n",
    "    print(result)"
   ]
  },
  {
   "cell_type": "code",
   "execution_count": 2,
   "id": "fa077e52-88b8-486e-9247-2eba81427366",
   "metadata": {},
   "outputs": [
    {
     "ename": "NameError",
     "evalue": "name 'upper' is not defined",
     "output_type": "error",
     "traceback": [
      "\u001b[0;31m---------------------------------------------------------------------------\u001b[0m",
      "\u001b[0;31mNameError\u001b[0m                                 Traceback (most recent call last)",
      "Cell \u001b[0;32mIn[2], line 1\u001b[0m\n\u001b[0;32m----> 1\u001b[0m \u001b[43mupper\u001b[49m(m)\n",
      "\u001b[0;31mNameError\u001b[0m: name 'upper' is not defined"
     ]
    }
   ],
   "source": [
    "upper(m)"
   ]
  },
  {
   "cell_type": "code",
   "execution_count": 18,
   "id": "3f9307eb-d033-44d1-b5b3-b778fba5d0a5",
   "metadata": {},
   "outputs": [
    {
     "name": "stdout",
     "output_type": "stream",
     "text": [
      "i.upper()m\n",
      "i.upper()a\n",
      "i.upper()n\n",
      "i.upper()i\n",
      "i.upper()s\n",
      "i.upper()h\n"
     ]
    }
   ],
   "source": [
    "m=\"manish\"\n",
    "m.upper()\n",
    "for i in m:\n",
    "    i.upper()\n",
    "    print(\"i.upper()\"+i)"
   ]
  },
  {
   "cell_type": "code",
   "execution_count": 4,
   "id": "aeea7938-7d51-4255-926e-0aeeffaf4616",
   "metadata": {},
   "outputs": [
    {
     "name": "stdout",
     "output_type": "stream",
     "text": [
      "HELLO, WORLD!\n"
     ]
    }
   ],
   "source": [
    "my_string = \"Hello, World!\"\n",
    "uppercase_string = my_string.upper()\n",
    "print(uppercase_string)\n"
   ]
  },
  {
   "cell_type": "markdown",
   "id": "3695de76-cabd-422e-badf-47312168aae2",
   "metadata": {},
   "source": []
  },
  {
   "cell_type": "code",
   "execution_count": 24,
   "id": "eac95912-2f34-4689-b394-6a5cc9187f54",
   "metadata": {},
   "outputs": [
    {
     "name": "stdin",
     "output_type": "stream",
     "text": [
      " manish kumar aryan\n"
     ]
    },
    {
     "name": "stdout",
     "output_type": "stream",
     "text": [
      "manish-kumar-aryan\n"
     ]
    }
   ],
   "source": [
    "# https://www.hackerrank.com/challenges/python-string-split-and-join/problem?isFullScreen=true&h_r=next-challenge&h_v=zen\n",
    "\n",
    "def split_and_join(line):\n",
    "    # write your code here\n",
    "    new=\"-\".join(line.split(\" \"))\n",
    "    return new\n",
    "\n",
    "if __name__ == '__main__':\n",
    "    line = input()\n",
    "    result = split_and_join(line)\n",
    "    print(result)"
   ]
  },
  {
   "cell_type": "code",
   "execution_count": 22,
   "id": "3ab09a04-a0eb-4955-bade-6df3506eb63d",
   "metadata": {},
   "outputs": [
    {
     "name": "stdout",
     "output_type": "stream",
     "text": [
      "['manish', 'Kumar']\n"
     ]
    }
   ],
   "source": [
    "m=\"manish Kumar\"\n",
    "\n",
    "n=m.split(\" \")\n",
    "print(n)"
   ]
  },
  {
   "cell_type": "code",
   "execution_count": 23,
   "id": "dfc3fa37-2627-4e8c-b20e-a0c91741a55a",
   "metadata": {},
   "outputs": [
    {
     "name": "stdout",
     "output_type": "stream",
     "text": [
      "manish-Kumar\n"
     ]
    }
   ],
   "source": [
    "k=\"-\".join(n)\n",
    "print(k)"
   ]
  },
  {
   "cell_type": "markdown",
   "id": "82d51f0c-3f2c-43cf-80f7-bad0920b5cba",
   "metadata": {},
   "source": []
  },
  {
   "cell_type": "code",
   "execution_count": 26,
   "id": "1fd0fb9d-8707-4e87-af66-3f27dbcb2c4a",
   "metadata": {},
   "outputs": [
    {
     "name": "stdin",
     "output_type": "stream",
     "text": [
      " manish\n",
      " kumar\n"
     ]
    },
    {
     "name": "stdout",
     "output_type": "stream",
     "text": [
      "Hello manish kumar! You just delved into python \n"
     ]
    }
   ],
   "source": [
    "#https://www.hackerrank.com/challenges/whats-your-name/problem?isFullScreen=true&h_r=next-challenge&h_v=zen&h_r=next-challenge&h_v=zen\n",
    "# Complete the 'print_full_name' function below.\n",
    "#\n",
    "# The function is expected to return a STRING.\n",
    "# The function accepts following parameters:\n",
    "#  1. STRING first\n",
    "#  2. STRING last\n",
    "#  Hello Ross Taylor! You just delved into python.\n",
    "\n",
    "def print_full_name(first, last):\n",
    "    # Write your code here\n",
    "    string = f\"Hello {first} {last}! You just delved into python. \"\n",
    "    print(string)\n",
    "\n",
    "if __name__ == '__main__':\n",
    "    first_name = input()\n",
    "    last_name = input()\n",
    "    print_full_name(first_name, last_name)"
   ]
  },
  {
   "cell_type": "markdown",
   "id": "7cbd57e0-1acb-40a9-b080-c791ef6e102b",
   "metadata": {},
   "source": []
  },
  {
   "cell_type": "code",
   "execution_count": 33,
   "id": "654e3da5-4b98-4a3b-862e-7c6c2da100d4",
   "metadata": {},
   "outputs": [
    {
     "name": "stdin",
     "output_type": "stream",
     "text": [
      " manish\n",
      " 5 g\n"
     ]
    },
    {
     "name": "stdout",
     "output_type": "stream",
     "text": [
      "manisg\n"
     ]
    }
   ],
   "source": [
    "# https://www.hackerrank.com/challenges/python-mutations/problem?isFullScreen=true&h_r=next-challenge&h_v=zen&h_r=next-challenge&h_v=zen&h_r=next-challenge&h_v=zen\n",
    "\n",
    "def mutate_string(string, position, character):\n",
    "    \n",
    "    m=list(string)\n",
    "    m[position]=character\n",
    "    m=\"\".join(m)\n",
    "    return m\n",
    "\n",
    "if __name__ == '__main__':\n",
    "    s = input()\n",
    "    i, c = input().split()\n",
    "    s_new = mutate_string(s, int(i), c)\n",
    "    print(s_new)"
   ]
  },
  {
   "cell_type": "code",
   "execution_count": 32,
   "id": "d7e0137e-2e47-43be-97fc-672ba84492d2",
   "metadata": {},
   "outputs": [
    {
     "name": "stdout",
     "output_type": "stream",
     "text": [
      "manisg\n"
     ]
    }
   ],
   "source": [
    "string = \"manish\"\n",
    "# m=string.split(\"\")\n",
    "m=list(string)\n",
    "m[5]='g'\n",
    "m=\"\".join(m)\n",
    "print(m)"
   ]
  },
  {
   "cell_type": "code",
   "execution_count": null,
   "id": "34bfdcf4-18a4-4ab4-9763-bd34a3cd612c",
   "metadata": {},
   "outputs": [],
   "source": []
  },
  {
   "cell_type": "code",
   "execution_count": 35,
   "id": "a513380d-ad28-4360-8e26-46dfb03adbdb",
   "metadata": {},
   "outputs": [
    {
     "ename": "NameError",
     "evalue": "name 'List' is not defined",
     "output_type": "error",
     "traceback": [
      "\u001b[0;31m---------------------------------------------------------------------------\u001b[0m",
      "\u001b[0;31mNameError\u001b[0m                                 Traceback (most recent call last)",
      "Cell \u001b[0;32mIn[35], line 1\u001b[0m\n\u001b[0;32m----> 1\u001b[0m \u001b[38;5;28;01mclass\u001b[39;00m \u001b[38;5;21;01mSolution\u001b[39;00m:\n\u001b[1;32m      2\u001b[0m     \u001b[38;5;28;01mdef\u001b[39;00m \u001b[38;5;21mcontainsDuplicate\u001b[39m(\u001b[38;5;28mself\u001b[39m, nums: List[\u001b[38;5;28mint\u001b[39m]) \u001b[38;5;241m-\u001b[39m\u001b[38;5;241m>\u001b[39m \u001b[38;5;28mbool\u001b[39m:\n\u001b[1;32m      3\u001b[0m         \u001b[38;5;28mprint\u001b[39m(nums)\n",
      "Cell \u001b[0;32mIn[35], line 2\u001b[0m, in \u001b[0;36mSolution\u001b[0;34m()\u001b[0m\n\u001b[1;32m      1\u001b[0m \u001b[38;5;28;01mclass\u001b[39;00m \u001b[38;5;21;01mSolution\u001b[39;00m:\n\u001b[0;32m----> 2\u001b[0m     \u001b[38;5;28;01mdef\u001b[39;00m \u001b[38;5;21mcontainsDuplicate\u001b[39m(\u001b[38;5;28mself\u001b[39m, nums: \u001b[43mList\u001b[49m[\u001b[38;5;28mint\u001b[39m]) \u001b[38;5;241m-\u001b[39m\u001b[38;5;241m>\u001b[39m \u001b[38;5;28mbool\u001b[39m:\n\u001b[1;32m      3\u001b[0m         \u001b[38;5;28mprint\u001b[39m(nums)\n",
      "\u001b[0;31mNameError\u001b[0m: name 'List' is not defined"
     ]
    }
   ],
   "source": [
    "class Solution:\n",
    "    def containsDuplicate(self, nums: List[int]) -> bool:\n",
    "        print(nums)"
   ]
  },
  {
   "cell_type": "code",
   "execution_count": 36,
   "id": "449f57f1-f416-4746-893a-8bb24a6515e3",
   "metadata": {},
   "outputs": [],
   "source": [
    "def containsDuplicate(nums):\n",
    "    seen = set()\n",
    "    for num in nums:\n",
    "        if num in seen:\n",
    "            return True\n",
    "        seen.add(num)\n",
    "    return False\n"
   ]
  },
  {
   "cell_type": "code",
   "execution_count": 37,
   "id": "e0c0c5c7-bd32-45c5-9876-40e8150ace82",
   "metadata": {},
   "outputs": [
    {
     "name": "stdout",
     "output_type": "stream",
     "text": [
      "False\n",
      "True\n"
     ]
    }
   ],
   "source": [
    "my_nums = [1, 2, 3, 4, 5]\n",
    "print(containsDuplicate(my_nums)) # False\n",
    "\n",
    "my_nums = [1, 2, 3, 2, 5]\n",
    "print(containsDuplicate(my_nums)) # True\n"
   ]
  },
  {
   "cell_type": "code",
   "execution_count": 3,
   "id": "8fb6a5a1-54fb-4565-8bf8-776e89e9b731",
   "metadata": {},
   "outputs": [
    {
     "name": "stdin",
     "output_type": "stream",
     "text": [
      " qA2\n"
     ]
    },
    {
     "name": "stdout",
     "output_type": "stream",
     "text": [
      "True\n",
      "True\n",
      "True\n"
     ]
    }
   ],
   "source": [
    "if __name__ == '__main__':\n",
    "    s = input()\n",
    "    \n",
    "    for i in s:\n",
    "        \n",
    "        if \n",
    "        \n",
    "        if (i.isalnum() or i.isalpha() or i.isdigit() or i.islower() or i.isupper()):\n",
    "            print(True)\n",
    "        else:\n",
    "            print(False)\n",
    "        \n",
    "    # print(s.isalnum())\n",
    "    # print(s.isalpha())\n",
    "    # print(s.isdigit())\n",
    "    # print(s.islower())\n",
    "    # print(s.isupper())\n",
    "\n",
    "\n"
   ]
  },
  {
   "cell_type": "code",
   "execution_count": null,
   "id": "5b96e68e-2231-4298-a49c-a17a41bd1d2f",
   "metadata": {},
   "outputs": [],
   "source": []
  }
 ],
 "metadata": {
  "kernelspec": {
   "display_name": "Python 3 (ipykernel)",
   "language": "python",
   "name": "python3"
  },
  "language_info": {
   "codemirror_mode": {
    "name": "ipython",
    "version": 3
   },
   "file_extension": ".py",
   "mimetype": "text/x-python",
   "name": "python",
   "nbconvert_exporter": "python",
   "pygments_lexer": "ipython3",
   "version": "3.10.8"
  }
 },
 "nbformat": 4,
 "nbformat_minor": 5
}
