{
 "cells": [
  {
   "cell_type": "code",
   "execution_count": 2,
   "id": "b7ffd19f-5ce5-4e8c-ad42-2c09941b3998",
   "metadata": {},
   "outputs": [
    {
     "name": "stdout",
     "output_type": "stream",
     "text": [
      "{'status': 'ERROR', 'request_id': 'a868110d89c75e32398f2ec7f291f917', 'error': 'Unknown API Key'}\n"
     ]
    }
   ],
   "source": [
    "import requests\n",
    "import json\n",
    "key = '6YKJO21SVQDCYFHF'\n",
    "ticker = 'GOOG'\n",
    "url = 'https://api.polygon.io/v1/last/stocks/{}?apiKey={}'.format(ticker, key)\n",
    "response = requests.get(url)\n",
    "print(response.json())"
   ]
  },
  {
   "cell_type": "code",
   "execution_count": 10,
   "id": "a20e078d-9c4b-4ec4-9b55-a520448977a8",
   "metadata": {},
   "outputs": [],
   "source": [
    "import requests\n",
    "import json \n",
    "key = '6YKJO21SVQDCYFHF'\n",
    "ticker = 'AAPL'\n",
    "url = 'https://www.alphavantage.co/query?function=TIME_SERIES_DAILY_ADJUSTED&symbol={}&apikey={}'.format(ticker, key)\n",
    "response = requests.get(url)\n",
    "# print(response.json()) "
   ]
  },
  {
   "cell_type": "code",
   "execution_count": 4,
   "id": "96f707d4-043f-4980-bacb-a94ce2920218",
   "metadata": {},
   "outputs": [
    {
     "ename": "SyntaxError",
     "evalue": "invalid decimal literal (296205169.py, line 1)",
     "output_type": "error",
     "traceback": [
      "\u001b[0;36m  Cell \u001b[0;32mIn[4], line 1\u001b[0;36m\u001b[0m\n\u001b[0;31m    https://www.alphavantage.co/query?function=TIME_SERIES_DAILY_ADJUSTED&symbol=TATAMOTORS.BSE&outputsize=full&apikey=6YKJO21SVQDCYFHF\u001b[0m\n\u001b[0m                                                                                                                       ^\u001b[0m\n\u001b[0;31mSyntaxError\u001b[0m\u001b[0;31m:\u001b[0m invalid decimal literal\n"
     ]
    }
   ],
   "source": [
    "https://www.alphavantage.co/query?function=TIME_SERIES_DAILY_ADJUSTED&symbol=TATAMOTORS.BSE&outputsize=full&apikey=6YKJO21SVQDCYFHF"
   ]
  },
  {
   "cell_type": "code",
   "execution_count": 5,
   "id": "086a2564-46ba-42c0-bd3a-0911e409b27b",
   "metadata": {},
   "outputs": [
    {
     "ename": "NameError",
     "evalue": "name 'curl' is not defined",
     "output_type": "error",
     "traceback": [
      "\u001b[0;31m---------------------------------------------------------------------------\u001b[0m",
      "\u001b[0;31mNameError\u001b[0m                                 Traceback (most recent call last)",
      "Cell \u001b[0;32mIn[5], line 1\u001b[0m\n\u001b[0;32m----> 1\u001b[0m \u001b[43mcurl\u001b[49m(\u001b[38;5;124m\"\u001b[39m\u001b[38;5;124mhttps://www.alphavantage.co/query?function=TIME_SERIES_DAILY_ADJUSTED&symbol=TATAMOTORS.BSE&outputsize=full&apikey=6YKJO21SVQDCYFHF\u001b[39m\u001b[38;5;124m\"\u001b[39m)\n",
      "\u001b[0;31mNameError\u001b[0m: name 'curl' is not defined"
     ]
    }
   ],
   "source": [
    "curl(\"https://www.alphavantage.co/query?function=TIME_SERIES_DAILY_ADJUSTED&symbol=TATAMOTORS.BSE&outputsize=full&apikey=6YKJO21SVQDCYFHF\")"
   ]
  },
  {
   "cell_type": "code",
   "execution_count": 6,
   "id": "ecb071ee-8308-4f4d-9121-45d27966f68b",
   "metadata": {},
   "outputs": [
    {
     "data": {
      "text/plain": [
       "0"
      ]
     },
     "execution_count": 6,
     "metadata": {},
     "output_type": "execute_result"
    },
    {
     "name": "stderr",
     "output_type": "stream",
     "text": [
      "  % Total    % Received % Xferd  Average Speed   Time    Time     Time  Current\n",
      "                                 Dload  Upload   Total   Spent    Left  Speed\n",
      "100   189  100   189    0     0    169      0  0:00:01  0:00:01 --:--:--   169\n"
     ]
    },
    {
     "name": "stdout",
     "output_type": "stream",
     "text": [
      "{\n",
      "    \"Error Message\": \"the parameter apikey is invalid or missing. Please claim your free API key on (https://www.alphavantage.co/support/#api-key). It should take less than 20 seconds.\"\n",
      "}"
     ]
    }
   ],
   "source": [
    "import os\n",
    "os.system('curl https://www.alphavantage.co/query?function=TIME_SERIES_DAILY_ADJUSTED&symbol=TATAMOTORS.BSE&outputsize=full&apikey=6YKJO21SVQDCYFHF')"
   ]
  },
  {
   "cell_type": "code",
   "execution_count": 11,
   "id": "20036e8a-1b5c-4be1-9b04-8d8acf688434",
   "metadata": {},
   "outputs": [],
   "source": []
  },
  {
   "cell_type": "code",
   "execution_count": 7,
   "id": "d73dd5b2-9079-462c-94eb-ff7d712b94b5",
   "metadata": {},
   "outputs": [],
   "source": [
    "api_key = '6YKJO21SVQDCYFHF'\n",
    "stock=\"TATAMOTORS\"\n",
    "URL =f\"https://www.alphavantage.co/query?function=TIME_SERIES_DAILY_ADJUSTED&symbol={stock}.BSE&outputsize=full&apikey={api_key}\"\n"
   ]
  },
  {
   "cell_type": "code",
   "execution_count": 8,
   "id": "a7e35ffc-adc4-42bb-85ec-fe9f477faaf4",
   "metadata": {},
   "outputs": [
    {
     "name": "stdout",
     "output_type": "stream",
     "text": [
      "https://www.alphavantage.co/query?function=TIME_SERIES_DAILY_ADJUSTED&symbol=TATAMOTORS.BSE&outputsize=full&apikey=6YKJO21SVQDCYFHF\n"
     ]
    }
   ],
   "source": [
    "print(URL)"
   ]
  },
  {
   "cell_type": "code",
   "execution_count": 4,
   "id": "1c96af20-8bb9-4a9f-9dd5-db7b82e524e4",
   "metadata": {},
   "outputs": [],
   "source": [
    "import requests\n",
    "api_key = '6YKJO21SVQDCYFHF'\n",
    "stock=\"TATAMOTORS\"\n",
    "url =f\"https://www.alphavantage.co/query?function=TIME_SERIES_DAILY_ADJUSTED&symbol={stock}.BSE&outputsize=full&apikey={api_key}\"\n",
    "# url = ''\n",
    "headers = {'Authorization': 'Bearer ' + api_key}\n",
    "response = requests.get(url, headers=headers)\n",
    "# print(response.json())"
   ]
  },
  {
   "cell_type": "code",
   "execution_count": 5,
   "id": "5fc632a4-3b94-496b-bbf9-f792a235b563",
   "metadata": {},
   "outputs": [],
   "source": [
    "import pandas as pd\n",
    "\n",
    "# assuming `response` is the JSON response from the API\n",
    "data = response.json()\n",
    "\n",
    "# Convert the JSON data to a DataFrame\n",
    "df = pd.DataFrame(data)\n"
   ]
  },
  {
   "cell_type": "code",
   "execution_count": 6,
   "id": "ebd4dc93-cd52-4c84-9249-0db1cb82d4b7",
   "metadata": {},
   "outputs": [
    {
     "data": {
      "text/html": [
       "<div>\n",
       "<style scoped>\n",
       "    .dataframe tbody tr th:only-of-type {\n",
       "        vertical-align: middle;\n",
       "    }\n",
       "\n",
       "    .dataframe tbody tr th {\n",
       "        vertical-align: top;\n",
       "    }\n",
       "\n",
       "    .dataframe thead th {\n",
       "        text-align: right;\n",
       "    }\n",
       "</style>\n",
       "<table border=\"1\" class=\"dataframe\">\n",
       "  <thead>\n",
       "    <tr style=\"text-align: right;\">\n",
       "      <th></th>\n",
       "      <th>Meta Data</th>\n",
       "      <th>Time Series (Daily)</th>\n",
       "    </tr>\n",
       "  </thead>\n",
       "  <tbody>\n",
       "    <tr>\n",
       "      <th>1. Information</th>\n",
       "      <td>Daily Time Series with Splits and Dividend Events</td>\n",
       "      <td>NaN</td>\n",
       "    </tr>\n",
       "    <tr>\n",
       "      <th>2. Symbol</th>\n",
       "      <td>TATAMOTORS.BSE</td>\n",
       "      <td>NaN</td>\n",
       "    </tr>\n",
       "    <tr>\n",
       "      <th>3. Last Refreshed</th>\n",
       "      <td>2023-01-30</td>\n",
       "      <td>NaN</td>\n",
       "    </tr>\n",
       "    <tr>\n",
       "      <th>4. Output Size</th>\n",
       "      <td>Full size</td>\n",
       "      <td>NaN</td>\n",
       "    </tr>\n",
       "    <tr>\n",
       "      <th>5. Time Zone</th>\n",
       "      <td>US/Eastern</td>\n",
       "      <td>NaN</td>\n",
       "    </tr>\n",
       "    <tr>\n",
       "      <th>...</th>\n",
       "      <td>...</td>\n",
       "      <td>...</td>\n",
       "    </tr>\n",
       "    <tr>\n",
       "      <th>2005-01-07</th>\n",
       "      <td>NaN</td>\n",
       "      <td>{'1. open': '472.382', '2. high': '477.077', '...</td>\n",
       "    </tr>\n",
       "    <tr>\n",
       "      <th>2005-01-06</th>\n",
       "      <td>NaN</td>\n",
       "      <td>{'1. open': '483.88', '2. high': '488.192', '3...</td>\n",
       "    </tr>\n",
       "    <tr>\n",
       "      <th>2005-01-05</th>\n",
       "      <td>NaN</td>\n",
       "      <td>{'1. open': '493.462', '2. high': '498.253', '...</td>\n",
       "    </tr>\n",
       "    <tr>\n",
       "      <th>2005-01-04</th>\n",
       "      <td>NaN</td>\n",
       "      <td>{'1. open': '499.5465', '2. high': '504.002', ...</td>\n",
       "    </tr>\n",
       "    <tr>\n",
       "      <th>2005-01-03</th>\n",
       "      <td>NaN</td>\n",
       "      <td>{'1. open': '488.4315', '2. high': '501.1275',...</td>\n",
       "    </tr>\n",
       "  </tbody>\n",
       "</table>\n",
       "<p>4461 rows × 2 columns</p>\n",
       "</div>"
      ],
      "text/plain": [
       "                                                           Meta Data  \\\n",
       "1. Information     Daily Time Series with Splits and Dividend Events   \n",
       "2. Symbol                                             TATAMOTORS.BSE   \n",
       "3. Last Refreshed                                         2023-01-30   \n",
       "4. Output Size                                             Full size   \n",
       "5. Time Zone                                              US/Eastern   \n",
       "...                                                              ...   \n",
       "2005-01-07                                                       NaN   \n",
       "2005-01-06                                                       NaN   \n",
       "2005-01-05                                                       NaN   \n",
       "2005-01-04                                                       NaN   \n",
       "2005-01-03                                                       NaN   \n",
       "\n",
       "                                                 Time Series (Daily)  \n",
       "1. Information                                                   NaN  \n",
       "2. Symbol                                                        NaN  \n",
       "3. Last Refreshed                                                NaN  \n",
       "4. Output Size                                                   NaN  \n",
       "5. Time Zone                                                     NaN  \n",
       "...                                                              ...  \n",
       "2005-01-07         {'1. open': '472.382', '2. high': '477.077', '...  \n",
       "2005-01-06         {'1. open': '483.88', '2. high': '488.192', '3...  \n",
       "2005-01-05         {'1. open': '493.462', '2. high': '498.253', '...  \n",
       "2005-01-04         {'1. open': '499.5465', '2. high': '504.002', ...  \n",
       "2005-01-03         {'1. open': '488.4315', '2. high': '501.1275',...  \n",
       "\n",
       "[4461 rows x 2 columns]"
      ]
     },
     "execution_count": 6,
     "metadata": {},
     "output_type": "execute_result"
    }
   ],
   "source": [
    "df"
   ]
  },
  {
   "cell_type": "code",
   "execution_count": null,
   "id": "744821a5-c001-4bee-b3e4-5732b1f6702a",
   "metadata": {},
   "outputs": [],
   "source": []
  }
 ],
 "metadata": {
  "kernelspec": {
   "display_name": "Python 3 (ipykernel)",
   "language": "python",
   "name": "python3"
  },
  "language_info": {
   "codemirror_mode": {
    "name": "ipython",
    "version": 3
   },
   "file_extension": ".py",
   "mimetype": "text/x-python",
   "name": "python",
   "nbconvert_exporter": "python",
   "pygments_lexer": "ipython3",
   "version": "3.10.8"
  }
 },
 "nbformat": 4,
 "nbformat_minor": 5
}
