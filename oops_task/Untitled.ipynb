{
 "cells": [
  {
   "cell_type": "code",
   "execution_count": 2,
   "id": "a30462ec-3fc2-463f-b5ee-e744c7b7f9a6",
   "metadata": {},
   "outputs": [],
   "source": [
    "# q1 : Create your own class to perform a list search operation \n",
    "class list_operation():\n",
    "    def __init__(self):\n",
    "        self.data=[]\n",
    "    \"\"\" \n",
    "    In this class you can create a list and later find the element in it.\n",
    "    \"\"\"\n",
    "    \n",
    "    def insert_element(self):\n",
    "        n=int(input(\"How many elements in the list: \"))\n",
    "        \n",
    "        for i in range(n):\n",
    "            m=input(f\"Enter element no-{i+1}: \")\n",
    "            self.data.append(m)\n",
    "        return self.data\n",
    "        \n",
    "    def search_element(self):\n",
    "        Element=input(\"Enter your element to be searched: \")\n",
    "        if Element in self.data:\n",
    "            print(f\"element {Element} fount at index: {self.data.index(Element)}\")\n",
    "        else:\n",
    "            print(\"Element not found.\")\n",
    "            \n",
    "            \n",
    "\n",
    "\n",
    "\n",
    "            \n",
    "        \n"
   ]
  },
  {
   "cell_type": "code",
   "execution_count": 22,
   "id": "0892bd34-03ad-4827-9ba0-67ed36efaae8",
   "metadata": {},
   "outputs": [],
   "source": [
    "lst=list_operation()"
   ]
  },
  {
   "cell_type": "code",
   "execution_count": 23,
   "id": "582b3e43-68ac-4f7a-9196-a7276916c7ca",
   "metadata": {},
   "outputs": [
    {
     "name": "stdin",
     "output_type": "stream",
     "text": [
      "How many elements in the list:  4\n",
      "Enter element no-1:  manish\n",
      "Enter element no-2:  nitish\n",
      "Enter element no-3:  vijay\n",
      "Enter element no-4:  arun\n"
     ]
    },
    {
     "data": {
      "text/plain": [
       "['manish', 'nitish', 'vijay', 'arun']"
      ]
     },
     "execution_count": 23,
     "metadata": {},
     "output_type": "execute_result"
    }
   ],
   "source": [
    "lst.insert_element()"
   ]
  },
  {
   "cell_type": "code",
   "execution_count": 24,
   "id": "31a13f3d-9be2-43db-9583-85e74b2b0eba",
   "metadata": {},
   "outputs": [
    {
     "name": "stdin",
     "output_type": "stream",
     "text": [
      "Enter your element to be searched:  arun\n"
     ]
    },
    {
     "name": "stdout",
     "output_type": "stream",
     "text": [
      "element arun fount at index: 3\n"
     ]
    }
   ],
   "source": [
    "lst.search_element()\n"
   ]
  },
  {
   "cell_type": "code",
   "execution_count": 3,
   "id": "9dafcc6b-f3b0-4d93-9903-f55443ca4b5a",
   "metadata": {},
   "outputs": [],
   "source": [
    "# Another Method\n",
    "class ListSearch:\n",
    "    def __init__(self, my_list):\n",
    "        self.my_list = my_list\n",
    "\n",
    "    def search(self, search_term):\n",
    "        matches = []\n",
    "        for item in self.my_list:\n",
    "            if search_term in item:\n",
    "                matches.append(item)\n",
    "        return matches\n"
   ]
  },
  {
   "cell_type": "code",
   "execution_count": 4,
   "id": "d9745df2-75a1-4f9f-be11-b2207f614dfb",
   "metadata": {},
   "outputs": [
    {
     "name": "stdout",
     "output_type": "stream",
     "text": [
      "['apple']\n"
     ]
    }
   ],
   "source": [
    "my_list = [\"apple\", \"banana\", \"cherry\", \"date\"]\n",
    "search_obj = ListSearch(my_list)\n",
    "results = search_obj.search(\"apple\")\n",
    "print(results)"
   ]
  },
  {
   "cell_type": "code",
   "execution_count": null,
   "id": "4b367e37-59de-434f-880d-a5155e35b943",
   "metadata": {},
   "outputs": [],
   "source": []
  },
  {
   "cell_type": "code",
   "execution_count": null,
   "id": "e5da9840-1d99-4c6b-be28-a5420edfe82f",
   "metadata": {},
   "outputs": [],
   "source": [
    "# q2 : create a class for dict new element addition\n",
    "my_dict = {}\n",
    " class Dictionary:\n",
    "        \n",
    "        def __init__(self):"
   ]
  },
  {
   "cell_type": "code",
   "execution_count": 1,
   "id": "28ae8406-fcb7-48a2-a583-8ccfb506f2df",
   "metadata": {},
   "outputs": [
    {
     "ename": "KeyError",
     "evalue": "'OUTPUT_PATH'",
     "output_type": "error",
     "traceback": [
      "\u001b[0;31m---------------------------------------------------------------------------\u001b[0m",
      "\u001b[0;31mKeyError\u001b[0m                                  Traceback (most recent call last)",
      "Cell \u001b[0;32mIn[1], line 24\u001b[0m\n\u001b[1;32m     21\u001b[0m     \u001b[38;5;28;01mreturn\u001b[39;00m fact\n\u001b[1;32m     23\u001b[0m \u001b[38;5;28;01mif\u001b[39;00m \u001b[38;5;18m__name__\u001b[39m \u001b[38;5;241m==\u001b[39m \u001b[38;5;124m'\u001b[39m\u001b[38;5;124m__main__\u001b[39m\u001b[38;5;124m'\u001b[39m:\n\u001b[0;32m---> 24\u001b[0m     fptr \u001b[38;5;241m=\u001b[39m \u001b[38;5;28mopen\u001b[39m(\u001b[43mos\u001b[49m\u001b[38;5;241;43m.\u001b[39;49m\u001b[43menviron\u001b[49m\u001b[43m[\u001b[49m\u001b[38;5;124;43m'\u001b[39;49m\u001b[38;5;124;43mOUTPUT_PATH\u001b[39;49m\u001b[38;5;124;43m'\u001b[39;49m\u001b[43m]\u001b[49m, \u001b[38;5;124m'\u001b[39m\u001b[38;5;124mw\u001b[39m\u001b[38;5;124m'\u001b[39m)\n\u001b[1;32m     26\u001b[0m     n \u001b[38;5;241m=\u001b[39m \u001b[38;5;28mint\u001b[39m(\u001b[38;5;28minput\u001b[39m()\u001b[38;5;241m.\u001b[39mstrip())\n\u001b[1;32m     28\u001b[0m     result \u001b[38;5;241m=\u001b[39m factorial(n)\n",
      "File \u001b[0;32m/opt/conda/lib/python3.10/os.py:680\u001b[0m, in \u001b[0;36m_Environ.__getitem__\u001b[0;34m(self, key)\u001b[0m\n\u001b[1;32m    677\u001b[0m     value \u001b[38;5;241m=\u001b[39m \u001b[38;5;28mself\u001b[39m\u001b[38;5;241m.\u001b[39m_data[\u001b[38;5;28mself\u001b[39m\u001b[38;5;241m.\u001b[39mencodekey(key)]\n\u001b[1;32m    678\u001b[0m \u001b[38;5;28;01mexcept\u001b[39;00m \u001b[38;5;167;01mKeyError\u001b[39;00m:\n\u001b[1;32m    679\u001b[0m     \u001b[38;5;66;03m# raise KeyError with the original key value\u001b[39;00m\n\u001b[0;32m--> 680\u001b[0m     \u001b[38;5;28;01mraise\u001b[39;00m \u001b[38;5;167;01mKeyError\u001b[39;00m(key) \u001b[38;5;28;01mfrom\u001b[39;00m \u001b[38;5;28mNone\u001b[39m\n\u001b[1;32m    681\u001b[0m \u001b[38;5;28;01mreturn\u001b[39;00m \u001b[38;5;28mself\u001b[39m\u001b[38;5;241m.\u001b[39mdecodevalue(value)\n",
      "\u001b[0;31mKeyError\u001b[0m: 'OUTPUT_PATH'"
     ]
    }
   ],
   "source": [
    "#!/bin/python3\n",
    "\n",
    "import math\n",
    "import os\n",
    "import random\n",
    "import re\n",
    "import sys\n",
    "\n",
    "#\n",
    "# Complete the 'factorial' function below.\n",
    "#\n",
    "# The function is expected to return an INTEGER.\n",
    "# The function accepts INTEGER n as parameter.\n",
    "#\n",
    "\n",
    "def factorial(n):\n",
    "    # Write your code here\n",
    "    while n>1:\n",
    "        fact=n*(n-1)\n",
    "        n=n-1\n",
    "    return fact\n",
    "\n",
    "if __name__ == '__main__':\n",
    "    fptr = open(os.environ['OUTPUT_PATH'], 'w')\n",
    "\n",
    "    n = int(input().strip())\n",
    "\n",
    "    result = factorial(n)\n",
    "\n",
    "    fptr.write(str(result) + '\\n')\n",
    "\n",
    "    fptr.close()\n"
   ]
  },
  {
   "cell_type": "code",
   "execution_count": 9,
   "id": "3a77a343-9ac4-438f-82e9-554e8c6a40ee",
   "metadata": {},
   "outputs": [
    {
     "name": "stdout",
     "output_type": "stream",
     "text": [
      "5\n",
      "20\n",
      "60\n",
      "120\n",
      "120\n"
     ]
    }
   ],
   "source": [
    "fact=1\n",
    "for i in range(5 , 0, -1):\n",
    "    fact = fact*i\n",
    "    print(fact)\n",
    "\n"
   ]
  },
  {
   "cell_type": "code",
   "execution_count": null,
   "id": "84ad965c-5402-4856-856a-e0532f229c2a",
   "metadata": {},
   "outputs": [],
   "source": []
  }
 ],
 "metadata": {
  "kernelspec": {
   "display_name": "Python 3 (ipykernel)",
   "language": "python",
   "name": "python3"
  },
  "language_info": {
   "codemirror_mode": {
    "name": "ipython",
    "version": 3
   },
   "file_extension": ".py",
   "mimetype": "text/x-python",
   "name": "python",
   "nbconvert_exporter": "python",
   "pygments_lexer": "ipython3",
   "version": "3.10.8"
  }
 },
 "nbformat": 4,
 "nbformat_minor": 5
}
