{
 "cells": [
  {
   "cell_type": "code",
   "execution_count": 1,
   "id": "9e09b40c-cd61-461e-b42d-663843851d7d",
   "metadata": {},
   "outputs": [],
   "source": [
    "class parent1:\n",
    "    \n",
    "    def parent_meth(self):\n",
    "        return \"this is parent1\"\n",
    "    \n",
    "class parent2:\n",
    "    \n",
    "    def parent_meth2(self):\n",
    "        return \"this is parent2\"\n",
    "    \n",
    "class chield(parent1,parent2):\n",
    "    \n",
    "    def chield_metod(self):\n",
    "        return \"this is child\""
   ]
  },
  {
   "cell_type": "code",
   "execution_count": 2,
   "id": "f6143c25-b860-45a1-bf5e-2d6e6ec962bb",
   "metadata": {},
   "outputs": [],
   "source": [
    "var_chield=chield()"
   ]
  },
  {
   "cell_type": "code",
   "execution_count": 3,
   "id": "48c62ad6-8486-4c90-aa1b-692418558bc8",
   "metadata": {},
   "outputs": [
    {
     "data": {
      "text/plain": [
       "'this is parent2'"
      ]
     },
     "execution_count": 3,
     "metadata": {},
     "output_type": "execute_result"
    }
   ],
   "source": [
    "var_chield.parent_meth2()"
   ]
  },
  {
   "cell_type": "code",
   "execution_count": 4,
   "id": "53907f35-314c-47c7-a432-d5f270f48aa6",
   "metadata": {},
   "outputs": [
    {
     "data": {
      "text/plain": [
       "'this is child'"
      ]
     },
     "execution_count": 4,
     "metadata": {},
     "output_type": "execute_result"
    }
   ],
   "source": [
    "var_chield.chield_metod()"
   ]
  },
  {
   "cell_type": "code",
   "execution_count": 5,
   "id": "648e6439-3c91-418a-95ad-f1c7b84a5919",
   "metadata": {},
   "outputs": [],
   "source": [
    "class class1:\n",
    "    def class1_meth(self):\n",
    "        return \"class method\"\n",
    "    \n",
    "class class2(class1):\n",
    "    def class2_meth(self):\n",
    "        return \"class2 method\"\n",
    "    \n",
    "class class3(class2):\n",
    "    def class3_meth(self):\n",
    "        return \"class3 method\"\n",
    "        "
   ]
  },
  {
   "cell_type": "code",
   "execution_count": 6,
   "id": "2012a380-fea5-406c-bfe7-c89bb641ceca",
   "metadata": {},
   "outputs": [],
   "source": [
    "var_child = class3()"
   ]
  },
  {
   "cell_type": "code",
   "execution_count": 7,
   "id": "0a913d39-66a1-40b2-b0a6-0f39719e3856",
   "metadata": {},
   "outputs": [
    {
     "data": {
      "text/plain": [
       "'class2 method'"
      ]
     },
     "execution_count": 7,
     "metadata": {},
     "output_type": "execute_result"
    }
   ],
   "source": [
    "var_child.class2_meth()"
   ]
  },
  {
   "cell_type": "code",
   "execution_count": 8,
   "id": "3abb46b2-0cf5-4117-bbea-151e467319ff",
   "metadata": {},
   "outputs": [
    {
     "data": {
      "text/plain": [
       "'class method'"
      ]
     },
     "execution_count": 8,
     "metadata": {},
     "output_type": "execute_result"
    }
   ],
   "source": [
    "var_child.class1_meth()"
   ]
  },
  {
   "cell_type": "code",
   "execution_count": 9,
   "id": "fe7b5ca7-ad13-46a3-a568-fecc772b430d",
   "metadata": {},
   "outputs": [],
   "source": [
    "# Method Overiding\n",
    "# Overloading"
   ]
  },
  {
   "cell_type": "code",
   "execution_count": 10,
   "id": "f818cdd1-e6a9-4612-842c-f51e17ce3107",
   "metadata": {},
   "outputs": [],
   "source": [
    "import logging\n"
   ]
  },
  {
   "cell_type": "code",
   "execution_count": 11,
   "id": "06a0b6e6-82a7-47ac-a634-67af96e5e822",
   "metadata": {},
   "outputs": [],
   "source": [
    "import logging\n",
    "\n",
    "# configure the logging system\n",
    "logging.basicConfig(level=logging.DEBUG,\n",
    "                    format='%(asctime)s %(levelname)s %(message)s',\n",
    "                    filename='app.log',\n",
    "                    filemode='w')\n",
    "\n",
    "class read_write:\n",
    "    \n",
    "    def read(self):\n",
    "        try:\n",
    "            logging.info(\"trying to read\")\n",
    "            with open(\"example.txt\", \"r\") as file:\n",
    "                contents = file.read()\n",
    "                print(contents)\n",
    "                logging.debug(f\"data:{contents}\")\n",
    "        except Exception as e:\n",
    "            # print(f\"error occured in reading:{e}\")\n",
    "            logging.error(\"error in readiung\")\n",
    "            logging.exception(e)        \n",
    "        \n",
    "    def write(self):\n",
    "        try:\n",
    "            file = open(\"example.txt\", \"w\")\n",
    "            file.write(\"Hello, sir.\")\n",
    "            file.close()\n",
    "        except Exception as e:\n",
    "            print(f\"error occured in writing:{e}\")\n",
    "    \n",
    "    "
   ]
  },
  {
   "cell_type": "code",
   "execution_count": 12,
   "id": "95b8adf0-1778-4ac2-ad07-4ce7f15e6afa",
   "metadata": {},
   "outputs": [],
   "source": [
    "inst=read_write()"
   ]
  },
  {
   "cell_type": "code",
   "execution_count": 13,
   "id": "fa3b75c5-7c32-4368-bcb2-d46b5fb620e2",
   "metadata": {},
   "outputs": [],
   "source": [
    "inst.write()"
   ]
  },
  {
   "cell_type": "code",
   "execution_count": 14,
   "id": "7e75002e-8e77-42f9-bb62-ed9e81459b02",
   "metadata": {},
   "outputs": [
    {
     "name": "stdout",
     "output_type": "stream",
     "text": [
      "Hello, sir.\n"
     ]
    }
   ],
   "source": [
    "inst.read()"
   ]
  },
  {
   "cell_type": "code",
   "execution_count": 15,
   "id": "f2c99841-8fa3-4602-a899-b8ea1df07d4f",
   "metadata": {},
   "outputs": [
    {
     "name": "stdout",
     "output_type": "stream",
     "text": [
      "Hello, sir.\n"
     ]
    }
   ],
   "source": [
    "with open(\"example.txt\", \"r\") as file:\n",
    "    contents = file.read()\n",
    "    print(contents)\n",
    "    # return contents"
   ]
  },
  {
   "cell_type": "code",
   "execution_count": 1,
   "id": "5b5d1d5f-c005-49f7-941c-a881cac7e256",
   "metadata": {},
   "outputs": [],
   "source": [
    "import logging\n",
    "\n",
    "logging.basicConfig(filename='file_class.log', level=logging.DEBUG , filemode='w', format=\"%(asctime)s %(levelname)s %(message)s\")\n",
    "\n",
    "class file : \n",
    "    def __init__(self , filename)  :\n",
    "        self.filename = filename \n",
    "                    \n",
    "    def read(self):\n",
    "        logging.info(\"This is a start of read operation \" )\n",
    "        try :\n",
    "            logging.info(\"i am inside try block of read method \")\n",
    "            with open(self.filename , 'r') as file :\n",
    "                data = file.read()\n",
    "                logging.info(\"I am able to read the file \")\n",
    "                return data\n",
    "        except FileNotFoundError as e :\n",
    "            #print(e)\n",
    "            logging.error(\"there is some issue with  the read file operation\")\n",
    "            logging.error(e)\n",
    "        \n",
    "    def write(self,data1):\n",
    "        try: \n",
    "            \n",
    "            with open(self.filename, 'a') as file :\n",
    "                data = file.write(data1) \n",
    "        except Exception as e : \n",
    "            print(e)"
   ]
  },
  {
   "cell_type": "code",
   "execution_count": 2,
   "id": "fba0c106-daaf-42ca-a48c-cb9d68db9097",
   "metadata": {},
   "outputs": [],
   "source": [
    "test = file('test1.txt')"
   ]
  },
  {
   "cell_type": "code",
   "execution_count": 3,
   "id": "d4c27d96-38ee-4be4-a0e6-c275cec5b5e9",
   "metadata": {},
   "outputs": [],
   "source": [
    "test.write(\"hello\")"
   ]
  },
  {
   "cell_type": "code",
   "execution_count": 4,
   "id": "4fb6657c-379d-47c6-adad-5cebfdec1e02",
   "metadata": {},
   "outputs": [
    {
     "data": {
      "text/plain": [
       "'hellohellohellohellohello'"
      ]
     },
     "execution_count": 4,
     "metadata": {},
     "output_type": "execute_result"
    }
   ],
   "source": [
    "test.read()"
   ]
  },
  {
   "cell_type": "code",
   "execution_count": 2,
   "id": "e20381f6-cfeb-40ac-89d4-88dbf9ea6b9a",
   "metadata": {},
   "outputs": [],
   "source": [
    "import logging\n",
    "logging.basicConfig(filename='list.log', level=logging.DEBUG , filemode='w', format=\"%(asctime)s %(levelname)s %(message)s\")\n",
    "\n",
    "class search:\n",
    "    def __init__(self,lst,obj):\n",
    "        self.lst=lst\n",
    "        self.obj=obj\n",
    "        \n",
    "    def find(self):\n",
    "        if self.obj in self.lst:\n",
    "            print(\"obj found\")\n",
    "            logging.info('obj found')\n",
    "        else:\n",
    "            print(\"obj not found\")\n",
    "            logging.info('obj not found')\n",
    "            \n",
    "        "
   ]
  },
  {
   "cell_type": "code",
   "execution_count": 3,
   "id": "944d27e1-89d5-491f-b8e1-399eb6211053",
   "metadata": {},
   "outputs": [],
   "source": [
    "lst = ['apple','mango','grapes']\n",
    "obj = 'grape'"
   ]
  },
  {
   "cell_type": "code",
   "execution_count": 4,
   "id": "0ec96636-90ba-46d8-90da-130a5bc17e1b",
   "metadata": {},
   "outputs": [
    {
     "name": "stdout",
     "output_type": "stream",
     "text": [
      "obj not found\n"
     ]
    }
   ],
   "source": [
    "search(lst,obj).find()"
   ]
  },
  {
   "cell_type": "code",
   "execution_count": null,
   "id": "993ab356-31af-4ed6-b8be-305bf22ff5b9",
   "metadata": {},
   "outputs": [],
   "source": []
  },
  {
   "cell_type": "code",
   "execution_count": null,
   "id": "53393149-f4ac-4f2a-8a50-eaab86c2d0a6",
   "metadata": {},
   "outputs": [],
   "source": []
  }
 ],
 "metadata": {
  "kernelspec": {
   "display_name": "Python 3 (ipykernel)",
   "language": "python",
   "name": "python3"
  },
  "language_info": {
   "codemirror_mode": {
    "name": "ipython",
    "version": 3
   },
   "file_extension": ".py",
   "mimetype": "text/x-python",
   "name": "python",
   "nbconvert_exporter": "python",
   "pygments_lexer": "ipython3",
   "version": "3.10.8"
  }
 },
 "nbformat": 4,
 "nbformat_minor": 5
}
