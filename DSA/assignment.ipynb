{
 "cells": [
  {
   "cell_type": "markdown",
   "id": "0e153f6a-2b6a-479d-bbca-cf3c666f422b",
   "metadata": {
    "jp-MarkdownHeadingCollapsed": true,
    "tags": []
   },
   "source": [
    "# Q-1"
   ]
  },
  {
   "cell_type": "markdown",
   "id": "4e736bcb-ffd8-4161-8360-c25320af4068",
   "metadata": {},
   "source": [
    "Total Marks: 100\n",
    "Each question 10 marks\n",
    "Question 1: -\n",
    "Write a program that takes a string as input, and counts the frequency of each word in the string, there might\n",
    "be repeated characters in the string. Your task is to find the highest frequency and returns the length of the\n",
    "highest-frequency word.\n",
    "Note - You have to write at least 2 additional test cases in which your program will run successfully and provide\n",
    "an explanation for the same.\n",
    "Example input - string = “write write write all the number from from from 1 to 100”\n",
    "Example output - 5\n",
    "Explanation - From the given string we can note that the most frequent words are “write” and “from” and\n",
    "the maximum value of both the values is “write” and its corresponding length is 5"
   ]
  },
  {
   "cell_type": "code",
   "execution_count": 1,
   "id": "37d02c08-3705-402f-9acc-18891e22fe46",
   "metadata": {},
   "outputs": [],
   "source": [
    "def freq_calc(input):\n",
    "    word_freq={}\n",
    "    for word in input.split(' '):\n",
    "        if word in word_freq:\n",
    "            word_freq[word] = word_freq[word] +1\n",
    "            \n",
    "        else:\n",
    "            word_freq[word]=1\n",
    "            \n",
    "    max_word = max(word_freq, key=lambda x: word_freq[x])\n",
    "    statement = f\"'{max_word}' is the highest frequent word with frequency {max(word_freq.values())} and legth {len(max_word)}\"\n",
    "    print(statement)\n",
    "    \n",
    "    return len(max_word)\n",
    "            \n",
    "    "
   ]
  },
  {
   "cell_type": "code",
   "execution_count": 2,
   "id": "4cc958e5-6c25-4a7b-8d7d-6e7e2808c536",
   "metadata": {},
   "outputs": [
    {
     "name": "stdout",
     "output_type": "stream",
     "text": [
      "'write' is the highest frequent word with frequency 3 and legth 5\n"
     ]
    },
    {
     "data": {
      "text/plain": [
       "5"
      ]
     },
     "execution_count": 2,
     "metadata": {},
     "output_type": "execute_result"
    }
   ],
   "source": [
    "string = \"write write write all the number from from from 1 to 100\"\n",
    "freq_calc(string)"
   ]
  },
  {
   "cell_type": "code",
   "execution_count": 3,
   "id": "a1c048b1-a6e2-436d-821b-b7a66c4c1a7e",
   "metadata": {},
   "outputs": [
    {
     "name": "stdout",
     "output_type": "stream",
     "text": [
      "'coding' is the highest frequent word with frequency 3 and legth 6\n"
     ]
    },
    {
     "data": {
      "text/plain": [
       "6"
      ]
     },
     "execution_count": 3,
     "metadata": {},
     "output_type": "execute_result"
    }
   ],
   "source": [
    "string = \"My name is manish and my hobby is coding i am coding when i got the time. i enjoy it alot. kepp  coding ..\"\n",
    "freq_calc(string)"
   ]
  },
  {
   "cell_type": "markdown",
   "id": "b7c3be41-62f9-4e0e-9c13-72921eb4a2d5",
   "metadata": {
    "jp-MarkdownHeadingCollapsed": true,
    "tags": []
   },
   "source": [
    "# Q-2"
   ]
  },
  {
   "cell_type": "raw",
   "id": "7c526f81-2cce-4923-9bf4-b1529e59e75c",
   "metadata": {},
   "source": [
    "Question 2: -\n",
    "Consider a string to be valid if all characters of the string appear the same number of times. It is also valid if\n",
    "he can remove just one character at the index in the string, and the remaining characters will occur the same number of times. Given a string, determine if it is valid. If so, return YES , otherwise return NO .\n",
    "\n",
    "Note - You have to write at least 2 additional test cases in which your program will run successfully and provide\n",
    "an explanation for the same.\n",
    "\n",
    "Example input 1 - s = “abc”. This is a valid string because frequencies are { “a”: 1, “b”: 1, “c”: 1 }\n",
    "Example output 1- YES\n",
    "\n",
    "Example input 2 - s “abcc”. This string is not valid as we can remove only 1 occurrence of “c”. That leaves\n",
    "character frequencies of { “a”: 1, “b”: 1 , “c”: 2 }\n",
    "Example output 2 - NO\n"
   ]
  },
  {
   "cell_type": "code",
   "execution_count": 10,
   "id": "a7408ef8-4ca8-4921-9368-aedd0f551ffa",
   "metadata": {},
   "outputs": [],
   "source": [
    "def validation(string):\n",
    "    word_freq={}\n",
    "    for word in string:\n",
    "        if word in word_freq:\n",
    "            word_freq[word] = word_freq[word] +1\n",
    "            \n",
    "        else:\n",
    "            word_freq[word]=1\n",
    "    if len(set(word_freq.values())) > 1:\n",
    "        return 'NO'\n",
    "    else:\n",
    "        return 'YES'\n",
    "            \n",
    "    "
   ]
  },
  {
   "cell_type": "code",
   "execution_count": 12,
   "id": "38a95bb2-461e-48e7-855e-2c9437e0caa0",
   "metadata": {},
   "outputs": [
    {
     "data": {
      "text/plain": [
       "'YES'"
      ]
     },
     "execution_count": 12,
     "metadata": {},
     "output_type": "execute_result"
    }
   ],
   "source": [
    "string = \"manish\"\n",
    "val=validation(string)\n",
    "val"
   ]
  },
  {
   "cell_type": "code",
   "execution_count": 14,
   "id": "20f17a50-fb94-47f9-95c9-3b2202c5e2e7",
   "metadata": {},
   "outputs": [
    {
     "data": {
      "text/plain": [
       "'NO'"
      ]
     },
     "execution_count": 14,
     "metadata": {},
     "output_type": "execute_result"
    }
   ],
   "source": [
    "string = \"maanish\"\n",
    "val=validation(string)\n",
    "val"
   ]
  },
  {
   "cell_type": "code",
   "execution_count": 7,
   "id": "907f3130-c178-43a8-b78a-398df387bd1c",
   "metadata": {},
   "outputs": [
    {
     "data": {
      "text/plain": [
       "2"
      ]
     },
     "execution_count": 7,
     "metadata": {},
     "output_type": "execute_result"
    }
   ],
   "source": [
    "len(set(val.values()))\n"
   ]
  },
  {
   "cell_type": "markdown",
   "id": "abb02bd9-2aae-45cd-a8da-592a63217a81",
   "metadata": {
    "tags": []
   },
   "source": [
    "# Q-3"
   ]
  },
  {
   "cell_type": "raw",
   "id": "6cd6f039-4b55-4104-a0e3-140a1e22b215",
   "metadata": {},
   "source": [
    "Question 3: -\n",
    "Write a program, which would download the data from the provided link, and then read the data and convert\n",
    "that into properly structured data and return it in Excel format.\n",
    "Note - Write comments wherever necessary explaining the code written.Link - https://raw.githubusercontent.com/Biuni/PokemonGO-Pokedex/master/pokedex.json\n",
    "Data Attributes - id: Identification Number - int num: Number of the\n",
    "\n",
    "● Pokémon in the official Pokédex - int name: Pokémon name -\n",
    "  string img: URL to an image of this Pokémon - string type:\n",
    "  Pokémon type -string height: Pokémon height - float\n",
    "● weight: Pokémon weight - float candy: type of candy used to evolve Pokémon or\n",
    "  given\n",
    "● when transferred - string candy_count: the amount of candies required to evolve - int\n",
    "● egg: Number of kilometers to travel to hatch the egg - float spawn_chance:\n",
    "● Percentage of spawn chance (NEW) - float avg_spawns: Number of this pokemon on 10.000 spawns (NEW) - int\n",
    "● spawn_time: Spawns most active at the time on this field. Spawn times are the same for all\n",
    "time zones and are expressed in local time. (NEW) - “minutes: seconds” multipliers:\n",
    "Multiplier of Combat Power (CP) for calculating the CP after evolution See below - list of int\n",
    "weakness: Types of\n",
    "●\n",
    "Pokémon this Pokémon is weak to - list of strings next_evolution: Number and Name of\n",
    "successive evolutions of Pokémon - list of dict prev_evolution: Number and Name of previous\n",
    "evolutions of Pokémon - - list of dict"
   ]
  },
  {
   "cell_type": "code",
   "execution_count": 24,
   "id": "a75f9ee8-47ab-48fb-914f-43835a2299c4",
   "metadata": {},
   "outputs": [],
   "source": [
    "import urllib.request\n",
    "\n",
    "url = \"https://raw.githubusercontent.com/Biuni/PokemonGO-Pokedex/master/pokedex.json\"\n",
    "\n",
    "urllib.request.urlretrieve(url,'data.txt')\n",
    "\n",
    "filename = 'data.txt'\n",
    "\n",
    "with open(filename, 'r') as file:\n",
    "    contents = file.read()\n",
    "\n",
    "\n"
   ]
  },
  {
   "cell_type": "code",
   "execution_count": 20,
   "id": "3e8d47e3-9744-4af7-a64a-322068b99733",
   "metadata": {},
   "outputs": [],
   "source": [
    "import requests\n",
    "\n",
    "url = \"https://raw.githubusercontent.com/Biuni/PokemonGO-Pokedex/master/pokedex.json\"\n",
    "\n",
    "filename = 'data.txt'\n",
    "\n",
    "response = requests.get(url)\n",
    "with open(filename, 'wb') as file:\n",
    "    file.write(response.content)\n"
   ]
  },
  {
   "cell_type": "code",
   "execution_count": 26,
   "id": "b7e6d2db-6cd1-4976-bbf3-ba56f82a10d3",
   "metadata": {},
   "outputs": [
    {
     "name": "stdout",
     "output_type": "stream",
     "text": [
      "Collecting wget\n",
      "  Downloading wget-3.2.zip (10 kB)\n",
      "  Preparing metadata (setup.py) ... \u001b[?25ldone\n",
      "\u001b[?25hBuilding wheels for collected packages: wget\n",
      "  Building wheel for wget (setup.py) ... \u001b[?25ldone\n",
      "\u001b[?25h  Created wheel for wget: filename=wget-3.2-py3-none-any.whl size=9656 sha256=36635681d644a54a4c5394c932f96fe6390e8d62a0353beeeb7d037fe732a4d3\n",
      "  Stored in directory: /home/jovyan/.cache/pip/wheels/46/78/0e/8e5e2b500f83a682c8d7e7ce820638cf99faa894a662f71cf0\n",
      "Successfully built wget\n",
      "Installing collected packages: wget\n",
      "Successfully installed wget-3.2\n"
     ]
    }
   ],
   "source": [
    "!pip install wget\n"
   ]
  },
  {
   "cell_type": "code",
   "execution_count": 52,
   "id": "b25320eb-83e4-443d-b630-ca3db1765a58",
   "metadata": {},
   "outputs": [],
   "source": [
    "import wget\n",
    "import json\n",
    "\n",
    "url = \"https://raw.githubusercontent.com/Biuni/PokemonGO-Pokedex/master/pokedex.json\"\n",
    "\n",
    "filename = 'data.json'\n",
    "\n",
    "wget.download(url, filename)\n",
    "\n",
    "with open(filename,'r') as file:\n",
    "    content = json.load(file)\n",
    "    \n"
   ]
  },
  {
   "cell_type": "code",
   "execution_count": 70,
   "id": "9b3bfab7-54c4-431b-a0b6-7c6991765df3",
   "metadata": {},
   "outputs": [
    {
     "data": {
      "text/html": [
       "<div>\n",
       "<style scoped>\n",
       "    .dataframe tbody tr th:only-of-type {\n",
       "        vertical-align: middle;\n",
       "    }\n",
       "\n",
       "    .dataframe tbody tr th {\n",
       "        vertical-align: top;\n",
       "    }\n",
       "\n",
       "    .dataframe thead th {\n",
       "        text-align: right;\n",
       "    }\n",
       "</style>\n",
       "<table border=\"1\" class=\"dataframe\">\n",
       "  <thead>\n",
       "    <tr style=\"text-align: right;\">\n",
       "      <th></th>\n",
       "      <th>pokemon</th>\n",
       "    </tr>\n",
       "  </thead>\n",
       "  <tbody>\n",
       "    <tr>\n",
       "      <th>0</th>\n",
       "      <td>{'id': 1, 'num': '001', 'name': 'Bulbasaur', '...</td>\n",
       "    </tr>\n",
       "    <tr>\n",
       "      <th>1</th>\n",
       "      <td>{'id': 2, 'num': '002', 'name': 'Ivysaur', 'im...</td>\n",
       "    </tr>\n",
       "    <tr>\n",
       "      <th>2</th>\n",
       "      <td>{'id': 3, 'num': '003', 'name': 'Venusaur', 'i...</td>\n",
       "    </tr>\n",
       "    <tr>\n",
       "      <th>3</th>\n",
       "      <td>{'id': 4, 'num': '004', 'name': 'Charmander', ...</td>\n",
       "    </tr>\n",
       "    <tr>\n",
       "      <th>4</th>\n",
       "      <td>{'id': 5, 'num': '005', 'name': 'Charmeleon', ...</td>\n",
       "    </tr>\n",
       "    <tr>\n",
       "      <th>...</th>\n",
       "      <td>...</td>\n",
       "    </tr>\n",
       "    <tr>\n",
       "      <th>146</th>\n",
       "      <td>{'id': 147, 'num': '147', 'name': 'Dratini', '...</td>\n",
       "    </tr>\n",
       "    <tr>\n",
       "      <th>147</th>\n",
       "      <td>{'id': 148, 'num': '148', 'name': 'Dragonair',...</td>\n",
       "    </tr>\n",
       "    <tr>\n",
       "      <th>148</th>\n",
       "      <td>{'id': 149, 'num': '149', 'name': 'Dragonite',...</td>\n",
       "    </tr>\n",
       "    <tr>\n",
       "      <th>149</th>\n",
       "      <td>{'id': 150, 'num': '150', 'name': 'Mewtwo', 'i...</td>\n",
       "    </tr>\n",
       "    <tr>\n",
       "      <th>150</th>\n",
       "      <td>{'id': 151, 'num': '151', 'name': 'Mew', 'img'...</td>\n",
       "    </tr>\n",
       "  </tbody>\n",
       "</table>\n",
       "<p>151 rows × 1 columns</p>\n",
       "</div>"
      ],
      "text/plain": [
       "                                               pokemon\n",
       "0    {'id': 1, 'num': '001', 'name': 'Bulbasaur', '...\n",
       "1    {'id': 2, 'num': '002', 'name': 'Ivysaur', 'im...\n",
       "2    {'id': 3, 'num': '003', 'name': 'Venusaur', 'i...\n",
       "3    {'id': 4, 'num': '004', 'name': 'Charmander', ...\n",
       "4    {'id': 5, 'num': '005', 'name': 'Charmeleon', ...\n",
       "..                                                 ...\n",
       "146  {'id': 147, 'num': '147', 'name': 'Dratini', '...\n",
       "147  {'id': 148, 'num': '148', 'name': 'Dragonair',...\n",
       "148  {'id': 149, 'num': '149', 'name': 'Dragonite',...\n",
       "149  {'id': 150, 'num': '150', 'name': 'Mewtwo', 'i...\n",
       "150  {'id': 151, 'num': '151', 'name': 'Mew', 'img'...\n",
       "\n",
       "[151 rows x 1 columns]"
      ]
     },
     "execution_count": 70,
     "metadata": {},
     "output_type": "execute_result"
    }
   ],
   "source": [
    "import pandas as pd\n",
    "data=pd.read_json(\"data.json\")\n",
    "data"
   ]
  },
  {
   "cell_type": "code",
   "execution_count": 1,
   "id": "70aad2dd-5103-4bd4-a14b-a13e4757f343",
   "metadata": {},
   "outputs": [],
   "source": [
    "import requests\n",
    "import pandas as pd\n",
    "\n",
    "url = \"https://raw.githubusercontent.com/Biuni/PokemonGO-Pokedex/master/pokedex.json\"\n",
    "\n",
    "# Fetch data from the URL\n",
    "response = requests.get(url)\n",
    "data = response.json()\n",
    "\n",
    "# Extract the column data\n",
    "columns = list(data[\"pokemon\"][1].keys())\n",
    "columns\n",
    "\n",
    "# Create an empty DataFrame with the extracted column names\n",
    "df = pd.DataFrame(columns=columns)\n",
    "\n",
    "\n",
    "for pokemon in data[\"pokemon\"]:\n",
    "    row = [pokemon.get(column) for column in columns]\n",
    "    df.loc[len(df)] = row\n"
   ]
  },
  {
   "cell_type": "code",
   "execution_count": 3,
   "id": "cac8d997-1d2e-4183-9347-d0a9076ce8b8",
   "metadata": {},
   "outputs": [],
   "source": [
    "df.to_csv(\"pokemon_data.csv\")"
   ]
  },
  {
   "cell_type": "code",
   "execution_count": 90,
   "id": "d5b255c5-e5d3-4a78-99ac-eca65d07ce42",
   "metadata": {},
   "outputs": [],
   "source": [
    "import requests\n",
    "import pandas as pd\n",
    "\n",
    "url = \"https://raw.githubusercontent.com/Biuni/PokemonGO-Pokedex/master/pokedex.json\"\n",
    "\n",
    "# Fetch data from the URL\n",
    "response = requests.get(url)\n",
    "data = response.json()\n",
    "\n",
    "# Collect all unique keys as column names\n",
    "columns = []\n",
    "for pokemon in data[\"pokemon\"]:\n",
    "    for key in pokemon.keys():\n",
    "        if key not in columns:\n",
    "            columns.append(key)\n",
    "\n",
    "# Create an empty DataFrame with the extracted column names\n",
    "df = pd.DataFrame(columns=columns)\n",
    "\n",
    "# Iterate over the Pokemon data and add rows to the DataFrame\n",
    "for pokemon in data[\"pokemon\"]:\n",
    "    row = [pokemon.get(column) for column in columns]\n",
    "    df.loc[len(df)] = row\n",
    "\n",
    "df.to_excel('output.xlsx', index=False)\n"
   ]
  },
  {
   "cell_type": "markdown",
   "id": "c57154db-5066-47c2-a631-c6e29f97d325",
   "metadata": {
    "jp-MarkdownHeadingCollapsed": true,
    "tags": []
   },
   "source": [
    "# Q-4"
   ]
  },
  {
   "cell_type": "raw",
   "id": "63cf4794-f77f-449d-8c25-a7234ccbf6f4",
   "metadata": {},
   "source": [
    "Question 4 -\n",
    "\n",
    "Write a program to download the data from the link given below and then read the data and convert the into\n",
    "the proper structure and return it as a CSV file.\n",
    "Link - https://data.nasa.gov/resource/y77d-th95.json\n",
    "Note - Write code comments wherever needed for code understanding.Sample Data -\n",
    "Excepted Output Data Attributes\n",
    "\n",
    "●\n",
    "Name of Earth Meteorite - string id - ID of Earth\n",
    "Meteorite - int nametype - string recclass - string\n",
    "mass - Mass of Earth Meteorite - float year - Year at which Earth\n",
    "Meteorite was hit - datetime format reclat - float recclong - float\n",
    "point coordinates - list of int\n"
   ]
  },
  {
   "cell_type": "code",
   "execution_count": 98,
   "id": "d46e6b8e-cd9d-4303-ad88-2fea29dafc73",
   "metadata": {},
   "outputs": [],
   "source": [
    "import requests\n",
    "import pandas as pd\n",
    "\n",
    "url = \"https://data.nasa.gov/resource/y77d-th95.json\"\n",
    "\n",
    "# Fetch data from the URL\n",
    "response = requests.get(url)\n",
    "earth_data = response.json()\n"
   ]
  },
  {
   "cell_type": "code",
   "execution_count": 106,
   "id": "8c71d243-60d1-4454-8fb9-337e2858c4e0",
   "metadata": {},
   "outputs": [],
   "source": [
    "# Save JSON data to a file\n",
    "with open(\"earth_data.json\", \"w\") as file:\n",
    "    json.dump(earth_data, file)"
   ]
  },
  {
   "cell_type": "code",
   "execution_count": 115,
   "id": "e6dbce7e-5c39-4a93-9ad9-b1e6f2255a80",
   "metadata": {},
   "outputs": [],
   "source": [
    "import requests\n",
    "import pandas as pd\n",
    "\n",
    "url = \"https://data.nasa.gov/resource/y77d-th95.json\"\n",
    "\n",
    "# Fetch data from the URL\n",
    "response = requests.get(url)\n",
    "earth_data = response.json()\n",
    "\n",
    "columns = [] #Initiating Empty list for storing column names\n",
    "for data in earth_data:\n",
    "    for key in data.keys():\n",
    "        if key not in columns:\n",
    "            columns.append(key)\n",
    "\n",
    "#Creating data frame columns \n",
    "df=pd.DataFrame(columns=columns)\n",
    "\n",
    "# Iterate over the  earth_data and add rows to the DataFrame\n",
    "for data in earth_data:\n",
    "    row = [data.get(column) for column in columns]\n",
    "    df.loc[len(df)] = row \n",
    "    \n",
    "df=df.iloc[:,:-2] # deleting last two unrelated column\n",
    "df.to_csv('earth_data.csv')\n"
   ]
  },
  {
   "cell_type": "markdown",
   "id": "d3b474bf-fccf-48f2-9f86-4a77ac5c870e",
   "metadata": {
    "jp-MarkdownHeadingCollapsed": true,
    "tags": []
   },
   "source": [
    "# Q-5"
   ]
  },
  {
   "cell_type": "raw",
   "id": "5bfcba41-e1ec-4e5c-a066-341ed1e9aaff",
   "metadata": {},
   "source": [
    "Question 5 -\n",
    "Write a program to download the data from the given API link and then extract the following data with\n",
    "proper formatting\n",
    "Link - http://api.tvmaze.com/singlesearch/shows?q=westworld&embed=episodes\n",
    "Note - Write proper code comments wherever needed for the code understandingSample Data -\n",
    "Excepted Output Data Attributes -\n",
    "\n",
    "id - int \n",
    "url - string\n",
    "name - string \n",
    "season- int \n",
    "number - int\n",
    "type - string \n",
    "airdate -date format \n",
    "airtime -12-hour time format\n",
    "runtime - float\n",
    "average rating - float\n",
    "summary - string\n",
    "without html tags\n",
    "medium image link - string\n",
    "Original image link - string\n"
   ]
  },
  {
   "cell_type": "code",
   "execution_count": 81,
   "id": "ed90a2a5-67cb-4651-8c20-ed2d79839029",
   "metadata": {},
   "outputs": [],
   "source": [
    "# !pip install wget\n"
   ]
  },
  {
   "cell_type": "code",
   "execution_count": 82,
   "id": "83c37e6c-008c-478e-9ba6-81e3c84a68a4",
   "metadata": {},
   "outputs": [],
   "source": [
    "import wget\n",
    "import json\n",
    "from bs4 import BeautifulSoup\n",
    "\n",
    "\n",
    "url = \"http://api.tvmaze.com/singlesearch/shows?q=westworld&embed=episodes\"\n",
    "\n",
    "\n",
    "filename = 'movie_data.json'\n",
    "\n",
    "wget.download(url, filename)\n",
    "\n",
    "with open(filename,'r') as file:\n",
    "    data_dict = json.load(file)\n",
    "    \n",
    "    \n",
    "episodes = data_dict.get('_embedded', {}).get('episodes', [])\n",
    "\n",
    "# Extract the desired columns for each episode\n",
    "columns = ['id', 'name', 'season', 'number', 'type', 'airdate', 'airstamp', 'runtime', 'rating', 'summary', 'image']\n",
    "episode_data = []\n",
    "for episode in episodes:\n",
    "    extracted_data = {col: episode.get(col) for col in columns}\n",
    "    episode_data.append(extracted_data)\n",
    "\n",
    "# Create a DataFrame from the extracted episode data\n",
    "df = pd.DataFrame(episode_data)\n",
    "\n",
    "\n",
    "# To removbe HTML tags from 'summary' column \n",
    "df['summary'] = df['summary'].apply(lambda x: BeautifulSoup(x, 'html.parser').get_text())\n",
    "\n",
    "# Extracting 'medium' and 'original' column from 'image' column \n",
    "df['medium'] = df['image'].apply(lambda x: x['medium'])\n",
    "df['original'] = df['image'].apply(lambda x: x['original'])\n"
   ]
  },
  {
   "cell_type": "markdown",
   "id": "15783a61-133a-4a1a-a062-0cf5f853865b",
   "metadata": {
    "jp-MarkdownHeadingCollapsed": true,
    "tags": []
   },
   "source": [
    "# Q-6"
   ]
  },
  {
   "cell_type": "raw",
   "id": "a75d17cf-c6c2-42ac-b3ee-be6c2c1815dd",
   "metadata": {},
   "source": [
    "Question 6 -\n",
    "\n",
    "Using the data from Question 3, write code to analyze the data and answer the following questions Note \n",
    "1. Draw plots to demonstrate the analysis for the following questions for better visualizations.\n",
    "2. Write code comments wherever required for code understanding\n",
    "Insights to be drawn -\n",
    "\n",
    "\n",
    "● Get all Pokemons whose spawn rate is less than 5%\n",
    "● Get all Pokemons that have less than 4 weaknesses\n",
    "● Get all Pokemons that have no multipliers at all\n",
    "● Get all Pokemons that do not have more than 2 evolutions\n",
    "● Get all Pokemons whose spawn time is less than 300 seconds.\n",
    "\n",
    "Note - spawn time format is \"05:32”, so assume “minute: second” format and perform the analysis.\n",
    "Get all Pokemon who have more than two types of capabilities"
   ]
  },
  {
   "cell_type": "code",
   "execution_count": 62,
   "id": "9b0963d1-7594-47ca-a618-33958b046340",
   "metadata": {},
   "outputs": [],
   "source": [
    "import pandas as pd\n",
    "\n",
    "df=pd.read_csv(\"pokemon_data.csv\")\n",
    "\n"
   ]
  },
  {
   "cell_type": "code",
   "execution_count": 63,
   "id": "bd8475f4-82fa-461d-a0ea-414ec41aaabf",
   "metadata": {},
   "outputs": [
    {
     "name": "stdout",
     "output_type": "stream",
     "text": [
      "<class 'pandas.core.frame.DataFrame'>\n",
      "RangeIndex: 151 entries, 0 to 150\n",
      "Data columns (total 18 columns):\n",
      " #   Column          Non-Null Count  Dtype  \n",
      "---  ------          --------------  -----  \n",
      " 0   Unnamed: 0      151 non-null    int64  \n",
      " 1   id              151 non-null    int64  \n",
      " 2   num             151 non-null    int64  \n",
      " 3   name            151 non-null    object \n",
      " 4   img             151 non-null    object \n",
      " 5   type            151 non-null    object \n",
      " 6   height          151 non-null    object \n",
      " 7   weight          151 non-null    object \n",
      " 8   candy           151 non-null    object \n",
      " 9   candy_count     70 non-null     float64\n",
      " 10  egg             151 non-null    object \n",
      " 11  spawn_chance    151 non-null    float64\n",
      " 12  avg_spawns      151 non-null    float64\n",
      " 13  spawn_time      145 non-null    object \n",
      " 14  multipliers     70 non-null     object \n",
      " 15  weaknesses      151 non-null    object \n",
      " 16  prev_evolution  72 non-null     object \n",
      " 17  next_evolution  70 non-null     object \n",
      "dtypes: float64(3), int64(3), object(12)\n",
      "memory usage: 21.4+ KB\n"
     ]
    }
   ],
   "source": [
    "df.info()"
   ]
  },
  {
   "cell_type": "code",
   "execution_count": null,
   "id": "59314dbb-7a6a-421c-af92-c637b34d589f",
   "metadata": {},
   "outputs": [],
   "source": [
    "# ● Get all Pokemons whose spawn rate is less than 5%\n",
    "\n",
    "\n",
    "df[df['avg_spawns']<5]\n"
   ]
  },
  {
   "cell_type": "code",
   "execution_count": null,
   "id": "1ee35b6d-fac4-4eae-9e09-cf6e6b500efd",
   "metadata": {},
   "outputs": [],
   "source": [
    "# ● Get all Pokemons that have less than 4 weaknesses\n",
    "\n",
    "df['weaknesses']=df['weaknesses'].apply(eval)\n",
    "df[df['weaknesses'].apply(lambda x: len(x) < 4)]"
   ]
  },
  {
   "cell_type": "code",
   "execution_count": null,
   "id": "026c4207-f854-40b5-93f9-af1148c03e79",
   "metadata": {},
   "outputs": [],
   "source": [
    "# ● Get all Pokemons that have no multipliers at all\n",
    "\n",
    "df[df['multipliers'].isna()]"
   ]
  },
  {
   "cell_type": "code",
   "execution_count": null,
   "id": "6a6daaf9-6a45-4aa3-b165-a98f21e68511",
   "metadata": {},
   "outputs": [],
   "source": [
    "# ● Get all Pokemons that do not have more than 2 evolutions\n",
    "df['next_evolution'] = df['next_evolution'].apply(eval)\n",
    "df[df['next_evolution'].apply(lambda x: len(x) <= 2)]"
   ]
  },
  {
   "cell_type": "code",
   "execution_count": 66,
   "id": "21901db9-7d79-479b-884c-8808874e95b6",
   "metadata": {},
   "outputs": [
    {
     "data": {
      "text/plain": [
       "0      [{'num': '002', 'name': 'Ivysaur'}, {'num': '0...\n",
       "1                   [{'num': '003', 'name': 'Venusaur'}]\n",
       "2                                                    NaN\n",
       "3      [{'num': '005', 'name': 'Charmeleon'}, {'num':...\n",
       "4                  [{'num': '006', 'name': 'Charizard'}]\n",
       "                             ...                        \n",
       "146    [{'num': '148', 'name': 'Dragonair'}, {'num': ...\n",
       "147                [{'num': '149', 'name': 'Dragonite'}]\n",
       "148                                                  NaN\n",
       "149                                                  NaN\n",
       "150                                                  NaN\n",
       "Name: next_evolution, Length: 151, dtype: object"
      ]
     },
     "execution_count": 66,
     "metadata": {},
     "output_type": "execute_result"
    }
   ],
   "source": [
    "df['next_evolution']"
   ]
  },
  {
   "cell_type": "code",
   "execution_count": null,
   "id": "6283691a-ac21-4291-bec1-5b37afe97678",
   "metadata": {},
   "outputs": [],
   "source": [
    "import ast\n",
    "import numpy as np\n",
    "\n",
    "df['next_evolution'] = df['next_evolution'].apply(lambda x: ast.literal_eval(x) if isinstance(x, str) else np.nan)\n"
   ]
  },
  {
   "cell_type": "code",
   "execution_count": null,
   "id": "02f08b9b-205d-4ee0-a528-ddc9b88741bb",
   "metadata": {},
   "outputs": [],
   "source": [
    "df[df['next_evolution'].apply(lambda x : len(eval(x))<=2 if not pd.isna(x) and isinstance(eval(x), (list, tuple)) else False)]\n"
   ]
  },
  {
   "cell_type": "code",
   "execution_count": 70,
   "id": "1aab502b-7733-4316-88a6-d6046c6e5988",
   "metadata": {},
   "outputs": [
    {
     "data": {
      "text/plain": [
       "[{'num': '002', 'name': 'Ivysaur'}, {'num': '003', 'name': 'Venusaur'}]"
      ]
     },
     "execution_count": 70,
     "metadata": {},
     "output_type": "execute_result"
    }
   ],
   "source": [
    "df['next_evolution'][0]"
   ]
  },
  {
   "cell_type": "code",
   "execution_count": null,
   "id": "e4d9012a-02a3-4952-95f1-61475ba5fcbe",
   "metadata": {},
   "outputs": [],
   "source": [
    "# ● Get all Pokemons whose spawn time is less than 300 seconds.\n",
    "\n",
    "\n",
    "import numpy as np\n",
    "\n",
    "def convert_to_seconds(time_str):\n",
    "    if pd.isna(time_str):\n",
    "        return np.nan\n",
    "    else:\n",
    "        parts = time_str.split(\":\")\n",
    "        minutes = int(parts[0])\n",
    "        sec = int(parts[1])\n",
    "        seconds = minutes * 60\n",
    "        return seconds\n",
    "\n",
    "df['spawn_time_seconds'] = df['spawn_time'].apply(convert_to_seconds)\n",
    "df[df['spawn_time_seconds'] < 300]\n",
    "\n",
    "\n",
    "\n"
   ]
  },
  {
   "cell_type": "code",
   "execution_count": null,
   "id": "4b3e884a-1cec-446d-aa6f-8ec118a16686",
   "metadata": {},
   "outputs": [],
   "source": [
    "import pandas as pd\n",
    "import matplotlib.pyplot as plt\n",
    "\n",
    "# Load the Pokemon dataset\n",
    "df = pd.read_csv('pokemon_data.csv')\n",
    "\n",
    "# Get all Pokemons whose spawn rate is less than 5%\n",
    "spawn_rate_threshold = 0.05\n",
    "filtered_spawn_rate = df[df['spawn_chance'] < spawn_rate_threshold]\n",
    "\n",
    "# Plot the spawn rate distribution\n",
    "plt.hist(df['spawn_chance'], bins=20, color='skyblue', edgecolor='black')\n",
    "plt.axvline(spawn_rate_threshold, color='red', linestyle='dashed', linewidth=1.5, label='Threshold')\n",
    "plt.xlabel('Spawn Rate')\n",
    "plt.ylabel('Count')\n",
    "plt.title('Spawn Rate Distribution')\n",
    "plt.legend()\n",
    "plt.show()\n",
    "\n",
    "# Get all Pokemons that have less than 4 weaknesses\n",
    "num_weakness_threshold = 4\n",
    "filtered_weakness = df[df['num_weaknesses'] < num_weakness_threshold]\n",
    "\n",
    "# Plot the distribution of number of weaknesses\n",
    "plt.hist(df['num_weaknesses'], bins=range(0, 11), color='skyblue', edgecolor='black')\n",
    "plt.axvline(num_weakness_threshold, color='red', linestyle='dashed', linewidth=1.5, label='Threshold')\n",
    "plt.xlabel('Number of Weaknesses')\n",
    "plt.ylabel('Count')\n",
    "plt.title('Number of Weaknesses Distribution')\n",
    "plt.legend()\n",
    "plt.show()\n",
    "\n",
    "# Get all Pokemons that have no multipliers at all\n",
    "no_multipliers = df[df['num_multipliers'] == 0]\n",
    "\n",
    "# Get all Pokemons that do not have more than 2 evolutions\n",
    "max_evolutions = 2\n",
    "filtered_evolutions = df[df['num_evolutions'] <= max_evolutions]\n",
    "\n",
    "# Get all Pokemons whose spawn time is less than 300 seconds\n",
    "def convert_to_seconds(time_str):\n",
    "    parts = time_str.split(\":\")\n",
    "    minutes = int(parts[0])\n",
    "    seconds = int(parts[1])\n",
    "    return minutes * 60 + seconds\n",
    "\n",
    "df['spawn_time_seconds'] = df['spawn_time'].apply(convert_to_seconds)\n",
    "filtered_spawn_time = df[df['spawn_time_seconds'] < 300]\n",
    "\n",
    "# Get all Pokemon who have more than two types of capabilities\n",
    "num_capabilities_threshold = 2\n",
    "filtered_capabilities = df[df['num_capabilities'] > num_capabilities_threshold]\n",
    "\n",
    "# Print the analysis results\n",
    "print(\"Pokemons with spawn rate less than 5%:\")\n",
    "print(filtered_spawn_rate[['name', 'spawn_chance']])\n",
    "print(\"\\nPokemons with less than 4 weaknesses:\")\n",
    "print(filtered_weakness[['name', 'num_weaknesses']])\n",
    "print(\"\\nPokemons with no multipliers:\")\n",
    "print(no_multipliers[['name', 'num_multipliers']])\n",
    "print(\"\\nPokemons with not more than 2 evolutions:\")\n",
    "print(filtered_evolutions[['name', 'num_evolutions']])\n",
    "print(\"\\nPokemons with spawn time less than 300 seconds:\")\n",
    "print(filtered_spawn_time[['name', 'spawn_time']])\n",
    "print(\"\\nPokemons with more than two types of capabilities:\")\n",
    "print(filtered_capabilities[['name', 'num_capabilities']])\n"
   ]
  },
  {
   "cell_type": "markdown",
   "id": "c19e3447-a22a-4738-88d5-45af72556c4b",
   "metadata": {
    "jp-MarkdownHeadingCollapsed": true,
    "tags": []
   },
   "source": [
    "# Q-7"
   ]
  },
  {
   "cell_type": "raw",
   "id": "7d1e9e97-35ac-4b50-bfb8-4538eaeea7c3",
   "metadata": {},
   "source": [
    "Question 7 -\n",
    "\n",
    "Using the data from Question 4, write code to analyze the data and answer the following questions Note -\n",
    "1. Draw plots to demonstrate the analysis for the following questions for better visualizations\n",
    "2. Write code comments wherever required for code understanding\n",
    "Insights to be drawn -\n",
    "\n",
    "● Get all the Earth meteorites that fell before the year 2000\n",
    "● Get all the earth meteorites co-ordinates who fell before the year 1970\n",
    "● Assuming that the mass of the earth meteorites was in kg, get all those whose mass was more\n",
    "than 10000kg"
   ]
  },
  {
   "cell_type": "code",
   "execution_count": 68,
   "id": "70545285-ad30-431e-a061-435ead67811c",
   "metadata": {},
   "outputs": [],
   "source": [
    "import pandas as pd \n",
    "df = pd.read_csv(\"earth_data.csv\")"
   ]
  },
  {
   "cell_type": "code",
   "execution_count": 69,
   "id": "2a015bd5-8926-4c0a-ae91-9ded6a688045",
   "metadata": {},
   "outputs": [],
   "source": [
    "# Delete rows containing non values\n",
    "df=df.dropna()"
   ]
  },
  {
   "cell_type": "code",
   "execution_count": null,
   "id": "bbe128d0-c753-4363-adf4-5b8e476651db",
   "metadata": {},
   "outputs": [],
   "source": [
    "# Create Date column to fetch date from the year column\n",
    "df['Date'] = pd.to_datetime(df['year'],errors='coerce').dt.date\n",
    "\n",
    "# Convert the 'Date' column to datetime\n",
    "df['Date'] = pd.to_datetime(df['Date'], errors='coerce')\n",
    "\n",
    "# ● Get all the Earth meteorites that fell before the year 2000\n",
    "df[df['Date'].dt.year < 2000]"
   ]
  },
  {
   "cell_type": "code",
   "execution_count": null,
   "id": "3af8e644-f629-4901-ae26-fde3829ed113",
   "metadata": {},
   "outputs": [],
   "source": [
    "# ● Get all the earth meteorites co-ordinates who fell before the year 1970\n",
    "\n",
    "df[df['Date'].dt.year < 1970][['reclat', 'reclong']]"
   ]
  },
  {
   "cell_type": "code",
   "execution_count": null,
   "id": "5c39b85a-d86c-4ccb-b816-37defed27e32",
   "metadata": {},
   "outputs": [],
   "source": [
    "# ● Assuming that the mass of the earth meteorites was in kg, get all those whose mass was more than 10000kg\n",
    "df[df['mass'] > 10000]"
   ]
  },
  {
   "cell_type": "code",
   "execution_count": 37,
   "id": "b574db88-d631-4776-b978-ed94dc5e1e80",
   "metadata": {},
   "outputs": [
    {
     "name": "stderr",
     "output_type": "stream",
     "text": [
      "/tmp/ipykernel_170/1682736763.py:3: FutureWarning: Comparison of Timestamp with datetime.date is deprecated in order to match the standard library behavior. In a future version these will be considered non-comparable. Use 'ts == pd.Timestamp(date)' or 'ts.date() == date' instead.\n",
      "  df[df['Date'] < year_threshold_2][['reclat', 'reclong']]\n"
     ]
    },
    {
     "data": {
      "text/html": [
       "<div>\n",
       "<style scoped>\n",
       "    .dataframe tbody tr th:only-of-type {\n",
       "        vertical-align: middle;\n",
       "    }\n",
       "\n",
       "    .dataframe tbody tr th {\n",
       "        vertical-align: top;\n",
       "    }\n",
       "\n",
       "    .dataframe thead th {\n",
       "        text-align: right;\n",
       "    }\n",
       "</style>\n",
       "<table border=\"1\" class=\"dataframe\">\n",
       "  <thead>\n",
       "    <tr style=\"text-align: right;\">\n",
       "      <th></th>\n",
       "      <th>reclat</th>\n",
       "      <th>reclong</th>\n",
       "    </tr>\n",
       "  </thead>\n",
       "  <tbody>\n",
       "    <tr>\n",
       "      <th>0</th>\n",
       "      <td>50.77500</td>\n",
       "      <td>6.08333</td>\n",
       "    </tr>\n",
       "    <tr>\n",
       "      <th>1</th>\n",
       "      <td>56.18333</td>\n",
       "      <td>10.23333</td>\n",
       "    </tr>\n",
       "    <tr>\n",
       "      <th>2</th>\n",
       "      <td>54.21667</td>\n",
       "      <td>-113.00000</td>\n",
       "    </tr>\n",
       "    <tr>\n",
       "      <th>4</th>\n",
       "      <td>-33.16667</td>\n",
       "      <td>-64.95000</td>\n",
       "    </tr>\n",
       "    <tr>\n",
       "      <th>5</th>\n",
       "      <td>32.10000</td>\n",
       "      <td>71.80000</td>\n",
       "    </tr>\n",
       "    <tr>\n",
       "      <th>...</th>\n",
       "      <td>...</td>\n",
       "      <td>...</td>\n",
       "    </tr>\n",
       "    <tr>\n",
       "      <th>994</th>\n",
       "      <td>54.50000</td>\n",
       "      <td>35.20000</td>\n",
       "    </tr>\n",
       "    <tr>\n",
       "      <th>995</th>\n",
       "      <td>13.63333</td>\n",
       "      <td>79.41667</td>\n",
       "    </tr>\n",
       "    <tr>\n",
       "      <th>997</th>\n",
       "      <td>-7.08333</td>\n",
       "      <td>111.53333</td>\n",
       "    </tr>\n",
       "    <tr>\n",
       "      <th>998</th>\n",
       "      <td>-6.66667</td>\n",
       "      <td>106.58333</td>\n",
       "    </tr>\n",
       "    <tr>\n",
       "      <th>999</th>\n",
       "      <td>47.85000</td>\n",
       "      <td>34.76667</td>\n",
       "    </tr>\n",
       "  </tbody>\n",
       "</table>\n",
       "<p>763 rows × 2 columns</p>\n",
       "</div>"
      ],
      "text/plain": [
       "       reclat    reclong\n",
       "0    50.77500    6.08333\n",
       "1    56.18333   10.23333\n",
       "2    54.21667 -113.00000\n",
       "4   -33.16667  -64.95000\n",
       "5    32.10000   71.80000\n",
       "..        ...        ...\n",
       "994  54.50000   35.20000\n",
       "995  13.63333   79.41667\n",
       "997  -7.08333  111.53333\n",
       "998  -6.66667  106.58333\n",
       "999  47.85000   34.76667\n",
       "\n",
       "[763 rows x 2 columns]"
      ]
     },
     "execution_count": 37,
     "metadata": {},
     "output_type": "execute_result"
    }
   ],
   "source": [
    "# Get all the Earth meteorites coordinates that fell before the year 1970\n",
    "year_threshold_2 = pd.to_datetime('1970-01-01')\n",
    "df[df['Date'] < year_threshold_2][['reclat', 'reclong']]"
   ]
  },
  {
   "cell_type": "code",
   "execution_count": 76,
   "id": "3be89a0f-5041-40b5-95dd-b1b846af743a",
   "metadata": {},
   "outputs": [
    {
     "data": {
      "image/png": "[encoded data removed]",
      "text/plain": [
       "<Figure size 640x480 with 1 Axes>"
      ]
     },
     "metadata": {},
     "output_type": "display_data"
    }
   ],
   "source": [
    "# Plot the distribution of meteorite falls over the years\n",
    "plt.hist(df['Date'], color='skyblue', edgecolor='black')\n",
    "plt.axvline(1970, color='red', linestyle='dashed', linewidth=1.5, label='1970')\n",
    "\n",
    "plt.xlabel('Year')\n",
    "plt.ylabel('Count')\n",
    "plt.title('Meteorite Falls Over the Years')\n",
    "plt.legend()\n",
    "plt.show()"
   ]
  },
  {
   "cell_type": "code",
   "execution_count": null,
   "id": "76bcaa75-ff74-428b-81fe-999baf2d7e63",
   "metadata": {},
   "outputs": [],
   "source": [
    "import pandas as pd\n",
    "import matplotlib.pyplot as plt\n",
    "\n",
    "# Load the Earth meteorites dataset\n",
    "# df = pd.read_csv('earth_data.csv')\n",
    "\n",
    "# Convert the 'year' column to datetime\n",
    "df['year'] = pd.to_datetime(df['year'])\n",
    "\n",
    "# Get all the Earth meteorites that fell before the year 2000\n",
    "year_threshold = pd.to_datetime('2000-01-01')\n",
    "filtered_before_2000 = df[df['year'] < year_threshold]\n",
    "\n",
    "# Plot the distribution of meteorite falls over the years\n",
    "plt.hist(df['year'].dropna().dt.year, bins=range(1800, 2022, 10), color='skyblue', edgecolor='black')\n",
    "plt.axvline(year_threshold.year, color='red', linestyle='dashed', linewidth=1.5, label='Threshold')\n",
    "plt.xlabel('Year')\n",
    "plt.ylabel('Count')\n",
    "plt.title('Meteorite Falls Over the Years')\n",
    "plt.legend()\n",
    "plt.show()\n",
    "\n",
    "# Get all the Earth meteorites coordinates that fell before the year 1970\n",
    "year_threshold_2 = pd.to_datetime('1970-01-01')\n",
    "filtered_before_1970 = df[df['year'] < year_threshold_2][['reclat', 'reclong']]\n",
    "\n",
    "# Plot the distribution of meteorite falls on a world map\n",
    "plt.figure(figsize=(10, 6))\n",
    "plt.scatter(df['reclong'], df['reclat'], s=10, color='skyblue')\n",
    "plt.scatter(filtered_before_1970['reclong'], filtered_before_1970['reclat'], s=20, color='red', label='Before 1970')\n",
    "plt.xlabel('Longitude')\n",
    "plt.ylabel('Latitude')\n",
    "plt.title('Meteorite Falls on World Map')\n",
    "plt.legend()\n",
    "plt.grid(True)\n",
    "plt.show()\n",
    "\n",
    "# Assuming mass is in kg, get all Earth meteorites with a mass greater than 10000 kg\n",
    "mass_threshold = 10000\n",
    "filtered_mass_greater_than_10000 = df[df['mass (g)'] > (mass_threshold * 1000)]\n",
    "\n",
    "# Plot the distribution of meteorite masses\n",
    "plt.hist(df['mass (g)'].dropna() / 1000, bins=20, color='skyblue', edgecolor='black')\n",
    "plt.axvline(mass_threshold, color='red', linestyle='dashed', linewidth=1.5, label='Threshold')\n",
    "plt.xlabel('Mass (kg)')\n",
    "plt.ylabel('Count')\n",
    "plt.title('Distribution of Meteorite Masses')\n",
    "plt.legend()\n",
    "plt.show()\n",
    "\n",
    "# Print the analysis results\n",
    "print(\"Earth meteorites that fell before the year 2000:\")\n",
    "print(filtered_before_2000)\n",
    "print(\"\\nEarth meteorite coordinates that fell before the year 1970:\")\n",
    "print(filtered_before_1970)\n",
    "print(\"\\nEarth meteorites with a mass greater than 10000 kg:\")\n",
    "print(filtered_mass_greater_than_10000)\n"
   ]
  },
  {
   "cell_type": "markdown",
   "id": "782f9b5a-2f25-4600-bf6f-2c2c48bd4a1c",
   "metadata": {
    "jp-MarkdownHeadingCollapsed": true,
    "tags": []
   },
   "source": [
    "# Q-8"
   ]
  },
  {
   "cell_type": "raw",
   "id": "7e6d0160-9c3d-41f0-8d02-57da1bb9f6e6",
   "metadata": {},
   "source": [
    "Question 8 -\n",
    "Using the data from Question 5, write code the analyze the data and answer the following questions Note -\n",
    "1. Draw plots to demonstrate the analysis for the following questions and better visualizations\n",
    "2. Write code comments wherever required for code understanding\n",
    "Insights to be drawn -\n",
    "\n",
    "● Get all the overall ratings for each season and using plots compare the ratings for all the\n",
    "  seasons, like season 1 ratings, season 2, and so on.\n",
    "● Get all the episode names, whose average rating is more than 8 for every season\n",
    "● Get all the episode names that aired before May 2019\n",
    "● Get the episode name from each season with the highest and lowest rating\n",
    "● Get the summary for the most popular ( ratings ) episode in every season\n"
   ]
  },
  {
   "cell_type": "code",
   "execution_count": 1,
   "id": "4675a5ed-426d-4f6e-892b-be035cccc915",
   "metadata": {},
   "outputs": [],
   "source": [
    "import pandas as pd\n",
    "df=pd.read_csv(\"web_series.csv\")"
   ]
  },
  {
   "cell_type": "code",
   "execution_count": 2,
   "id": "9feebc0b-aa2a-4683-b8ef-e46784169ff3",
   "metadata": {},
   "outputs": [],
   "source": [
    "df=df.drop(df.columns[0],axis=1)"
   ]
  },
  {
   "cell_type": "code",
   "execution_count": 3,
   "id": "dcd37259-1eed-4f82-ab6d-826164c5a6bf",
   "metadata": {},
   "outputs": [
    {
     "data": {
      "text/plain": [
       "\"{'average': 8}\""
      ]
     },
     "execution_count": 3,
     "metadata": {},
     "output_type": "execute_result"
    }
   ],
   "source": [
    "df['rating'][0]"
   ]
  },
  {
   "cell_type": "code",
   "execution_count": 4,
   "id": "d2da16b3-c88f-4196-883c-c129f0a3d0c1",
   "metadata": {},
   "outputs": [],
   "source": [
    "# Extract the numeric rating value from the \"{'average': 8}\" format\n",
    "df['rating'] = df['rating'].str.extract(r\"(\\d+)\").astype(float)"
   ]
  },
  {
   "cell_type": "code",
   "execution_count": 5,
   "id": "a6eee543-dec3-4a75-b25d-d6115dfc744e",
   "metadata": {},
   "outputs": [
    {
     "data": {
      "text/plain": [
       "season\n",
       "1    7.60\n",
       "2    7.40\n",
       "3    7.25\n",
       "4    7.00\n",
       "Name: rating, dtype: float64"
      ]
     },
     "execution_count": 5,
     "metadata": {},
     "output_type": "execute_result"
    }
   ],
   "source": [
    "# ● Get all the overall ratings for each season and using plots compare the ratings for all the seasons, like season 1 ratings, season 2, and so on.\n",
    "season_ratings=df.groupby('season')['rating'].mean()\n",
    "season_ratings"
   ]
  },
  {
   "cell_type": "code",
   "execution_count": null,
   "id": "9adfaf3d-ecba-459e-b40c-6daedceabfe3",
   "metadata": {},
   "outputs": [],
   "source": [
    "# Create a plot to compare the ratings for each season\n",
    "import matplotlib.pyplot as plt\n",
    "\n",
    "plt.figure(figsize=(10, 6))\n",
    "plt.plot(season_ratings.index, season_ratings.values, marker='o', linestyle='-', linewidth=2)\n",
    "\n",
    "# Add labels and title\n",
    "plt.xlabel('Season')\n",
    "plt.ylabel('Average Rating')\n",
    "plt.title('Average Ratings for Each Season')\n",
    "\n",
    "# Display the plot\n",
    "plt.show()"
   ]
  },
  {
   "cell_type": "code",
   "execution_count": null,
   "id": "4e41dee6-3279-45e5-a892-b13948299250",
   "metadata": {},
   "outputs": [],
   "source": [
    "# ● Get all the episode names, whose average rating is more than 8 for every season\n",
    "\n",
    "df[df.rating >= 8]"
   ]
  },
  {
   "cell_type": "code",
   "execution_count": null,
   "id": "68402dbb-de5a-430f-ab69-6ac268dff04a",
   "metadata": {},
   "outputs": [],
   "source": [
    "# ● Get all the episode names that aired before May 2019\n",
    "from datetime import datetime\n",
    "\n",
    "df['airdate']=pd.to_datetime(df['airdate'])\n",
    "df[df['airdate']<pd.Timestamp('2019-05-01')]"
   ]
  },
  {
   "cell_type": "code",
   "execution_count": 37,
   "id": "43330302-65df-449d-8447-1b75bd7dad13",
   "metadata": {},
   "outputs": [
    {
     "data": {
      "image/png": "[encoded data removed]",
      "text/plain": [
       "<Figure size 1000x600 with 1 Axes>"
      ]
     },
     "metadata": {},
     "output_type": "display_data"
    }
   ],
   "source": [
    "# Create a plot of Episodes Released per year\n",
    "import matplotlib.pyplot as plt\n",
    "\n",
    "plt.figure(figsize=(10, 6))\n",
    "plt.bar(df['airdate'].dt.year,df['number'])\n",
    "\n",
    "# Add labels and title\n",
    "plt.xlabel('year')\n",
    "plt.ylabel('Episodes Released')\n",
    "plt.title('Episodes Released per year')\n",
    "\n",
    "# Display the plot\n",
    "plt.show()"
   ]
  },
  {
   "cell_type": "code",
   "execution_count": null,
   "id": "9e3961df-57f6-4ac5-98ab-ca6cd8c21c6f",
   "metadata": {},
   "outputs": [],
   "source": [
    "df"
   ]
  },
  {
   "cell_type": "code",
   "execution_count": 23,
   "id": "9308107c-937c-4d05-aab1-26b2fcd92560",
   "metadata": {},
   "outputs": [
    {
     "name": "stdout",
     "output_type": "stream",
     "text": [
      "Season wise Highest Rating: \n",
      "season\n",
      "1          The Original\n",
      "2    Journey Into Night\n",
      "3          Parce Domine\n",
      "4          The Auguries\n",
      "dtype: object\n",
      "\n",
      "Season wise Lowest Rating: \n",
      "season\n",
      "1              Chestnut\n",
      "2    Journey Into Night\n",
      "3       The Winter Line\n",
      "4          The Auguries\n",
      "dtype: object\n"
     ]
    }
   ],
   "source": [
    "# ● Get the episode name from each season with the highest and lowest rating\n",
    "\n",
    "highest_rating = df.groupby(\"season\").apply(lambda x: x.iloc[df['rating'].idxmax()]['name'])\n",
    "lowest_rating = df.groupby('season').apply(lambda x: x.loc[x['rating'].idxmin()]['name'])\n",
    "\n",
    "print(f\"Season wise Highest Rating: \\n{highest_rating}\\n\")\n",
    "print(f\"Season wise Lowest Rating: \\n{lowest_rating}\")"
   ]
  },
  {
   "cell_type": "code",
   "execution_count": 16,
   "id": "9522b5fb-4a9a-4bc8-bf2f-5d843ed82c09",
   "metadata": {},
   "outputs": [
    {
     "data": {
      "text/plain": [
       "season\n",
       "1              Chestnut\n",
       "2    Journey Into Night\n",
       "3       The Winter Line\n",
       "4          The Auguries\n",
       "dtype: object"
      ]
     },
     "execution_count": 16,
     "metadata": {},
     "output_type": "execute_result"
    }
   ],
   "source": [
    "df.groupby('season').apply(lambda x: x.loc[x['rating'].idxmin()]['name'])\n"
   ]
  },
  {
   "cell_type": "code",
   "execution_count": 25,
   "id": "52b2587e-da7b-49b6-a524-82e98e0260aa",
   "metadata": {},
   "outputs": [
    {
     "data": {
      "text/plain": [
       "season\n",
       "1    A woman named Dolores is a free spirit in the ...\n",
       "2    William pays his recuperating father-in-law se...\n",
       "3    If you're stuck in a loop, try walking in a st...\n",
       "4    Hello again. Don't worry about a thing. It's a...\n",
       "dtype: object"
      ]
     },
     "execution_count": 25,
     "metadata": {},
     "output_type": "execute_result"
    }
   ],
   "source": [
    "# ● Get the summary for the most popular ( ratings ) episode in every season\n",
    "df.groupby(df['season']).apply(lambda x: x.loc[x['rating'].idxmax()]['summary'])\n"
   ]
  },
  {
   "cell_type": "markdown",
   "id": "f2b5564b-3209-4247-8b81-53b2a304ce70",
   "metadata": {},
   "source": [
    "# Q-9"
   ]
  },
  {
   "cell_type": "raw",
   "id": "c280fe4f-9cba-42fb-8279-42c1e914cd14",
   "metadata": {},
   "source": [
    "Question 9 -\n",
    "Write a program to read the data from the following link, perform data analysis and answer the following\n",
    "questions\n",
    "Note -\n",
    "1. Write code comments wherever required for code understanding\n",
    "Link - https://data.wa.gov/api/views/f6w7-q2d2/rows.csv?accessType=DOWNLOAD\n",
    "Insights to be drawn -\n",
    "\n",
    "● Get all the cars and their types that do not qualify for clean alternative fuel vehicle\n",
    "● Get all TESLA cars with the model year, and model type made in Bothell City.\n",
    "● Get all the cars that have an electric range of more than 100, and were made after 2015\n",
    "● Draw plots to show the distribution between city and electric vehicle type"
   ]
  },
  {
   "cell_type": "code",
   "execution_count": 38,
   "id": "666a0205-a00f-4591-abaf-ae5c655a9924",
   "metadata": {},
   "outputs": [],
   "source": [
    "\n",
    "import requests\n",
    "\n",
    "url = \"https://data.wa.gov/api/views/f6w7-q2d2/rows.csv?accessType=DOWNLOAD\"\n",
    "\n",
    "filename = 'electric_vehical_population_data.txt'\n",
    "\n",
    "response = requests.get(url)\n",
    "with open(filename, 'wb') as file:\n",
    "    file.write(response.content)\n"
   ]
  },
  {
   "cell_type": "code",
   "execution_count": 41,
   "id": "3f99d707-5c2b-415a-a8c9-30bb8638f6dd",
   "metadata": {},
   "outputs": [],
   "source": [
    "import pandas as pd\n",
    "df=pd.read_csv('electric_vehical_population_data.txt')\n"
   ]
  },
  {
   "cell_type": "code",
   "execution_count": 58,
   "id": "af818302-cc89-4678-841d-90d35f983cb4",
   "metadata": {},
   "outputs": [
    {
     "data": {
      "text/html": [
       "<div>\n",
       "<style scoped>\n",
       "    .dataframe tbody tr th:only-of-type {\n",
       "        vertical-align: middle;\n",
       "    }\n",
       "\n",
       "    .dataframe tbody tr th {\n",
       "        vertical-align: top;\n",
       "    }\n",
       "\n",
       "    .dataframe thead th {\n",
       "        text-align: right;\n",
       "    }\n",
       "</style>\n",
       "<table border=\"1\" class=\"dataframe\">\n",
       "  <thead>\n",
       "    <tr style=\"text-align: right;\">\n",
       "      <th></th>\n",
       "      <th>Make</th>\n",
       "      <th>Model</th>\n",
       "    </tr>\n",
       "  </thead>\n",
       "  <tbody>\n",
       "    <tr>\n",
       "      <th>0</th>\n",
       "      <td>TESLA</td>\n",
       "      <td>MODEL X</td>\n",
       "    </tr>\n",
       "    <tr>\n",
       "      <th>1</th>\n",
       "      <td>HONDA</td>\n",
       "      <td>CLARITY</td>\n",
       "    </tr>\n",
       "    <tr>\n",
       "      <th>2</th>\n",
       "      <td>TESLA</td>\n",
       "      <td>MODEL 3</td>\n",
       "    </tr>\n",
       "    <tr>\n",
       "      <th>3</th>\n",
       "      <td>NISSAN</td>\n",
       "      <td>LEAF</td>\n",
       "    </tr>\n",
       "    <tr>\n",
       "      <th>4</th>\n",
       "      <td>TESLA</td>\n",
       "      <td>MODEL S</td>\n",
       "    </tr>\n",
       "    <tr>\n",
       "      <th>...</th>\n",
       "      <td>...</td>\n",
       "      <td>...</td>\n",
       "    </tr>\n",
       "    <tr>\n",
       "      <th>130428</th>\n",
       "      <td>NISSAN</td>\n",
       "      <td>LEAF</td>\n",
       "    </tr>\n",
       "    <tr>\n",
       "      <th>130429</th>\n",
       "      <td>BMW</td>\n",
       "      <td>X5</td>\n",
       "    </tr>\n",
       "    <tr>\n",
       "      <th>130432</th>\n",
       "      <td>TESLA</td>\n",
       "      <td>MODEL Y</td>\n",
       "    </tr>\n",
       "    <tr>\n",
       "      <th>130436</th>\n",
       "      <td>TESLA</td>\n",
       "      <td>MODEL 3</td>\n",
       "    </tr>\n",
       "    <tr>\n",
       "      <th>130441</th>\n",
       "      <td>TESLA</td>\n",
       "      <td>MODEL X</td>\n",
       "    </tr>\n",
       "  </tbody>\n",
       "</table>\n",
       "<p>60551 rows × 2 columns</p>\n",
       "</div>"
      ],
      "text/plain": [
       "          Make    Model\n",
       "0        TESLA  MODEL X\n",
       "1        HONDA  CLARITY\n",
       "2        TESLA  MODEL 3\n",
       "3       NISSAN     LEAF\n",
       "4        TESLA  MODEL S\n",
       "...        ...      ...\n",
       "130428  NISSAN     LEAF\n",
       "130429     BMW       X5\n",
       "130432   TESLA  MODEL Y\n",
       "130436   TESLA  MODEL 3\n",
       "130441   TESLA  MODEL X\n",
       "\n",
       "[60551 rows x 2 columns]"
      ]
     },
     "execution_count": 58,
     "metadata": {},
     "output_type": "execute_result"
    }
   ],
   "source": [
    "# ● Get all the cars and their types that do not qualify for clean alternative fuel vehicle\n",
    "\n",
    "\n",
    "df[df['Clean Alternative Fuel Vehicle (CAFV) Eligibility']=='Clean Alternative Fuel Vehicle Eligible'][['Make','Model']]\n"
   ]
  },
  {
   "cell_type": "code",
   "execution_count": 66,
   "id": "ec5d1990-7300-4b72-bc93-ad19003b3647",
   "metadata": {},
   "outputs": [
    {
     "data": {
      "text/html": [
       "<div>\n",
       "<style scoped>\n",
       "    .dataframe tbody tr th:only-of-type {\n",
       "        vertical-align: middle;\n",
       "    }\n",
       "\n",
       "    .dataframe tbody tr th {\n",
       "        vertical-align: top;\n",
       "    }\n",
       "\n",
       "    .dataframe thead th {\n",
       "        text-align: right;\n",
       "    }\n",
       "</style>\n",
       "<table border=\"1\" class=\"dataframe\">\n",
       "  <thead>\n",
       "    <tr style=\"text-align: right;\">\n",
       "      <th></th>\n",
       "      <th>Model</th>\n",
       "      <th>Model Year</th>\n",
       "    </tr>\n",
       "  </thead>\n",
       "  <tbody>\n",
       "    <tr>\n",
       "      <th>0</th>\n",
       "      <td>MODEL X</td>\n",
       "      <td>2018</td>\n",
       "    </tr>\n",
       "    <tr>\n",
       "      <th>2</th>\n",
       "      <td>MODEL 3</td>\n",
       "      <td>2019</td>\n",
       "    </tr>\n",
       "    <tr>\n",
       "      <th>4</th>\n",
       "      <td>MODEL S</td>\n",
       "      <td>2017</td>\n",
       "    </tr>\n",
       "    <tr>\n",
       "      <th>9</th>\n",
       "      <td>MODEL S</td>\n",
       "      <td>2013</td>\n",
       "    </tr>\n",
       "    <tr>\n",
       "      <th>11</th>\n",
       "      <td>MODEL Y</td>\n",
       "      <td>2022</td>\n",
       "    </tr>\n",
       "    <tr>\n",
       "      <th>...</th>\n",
       "      <td>...</td>\n",
       "      <td>...</td>\n",
       "    </tr>\n",
       "    <tr>\n",
       "      <th>130436</th>\n",
       "      <td>MODEL 3</td>\n",
       "      <td>2018</td>\n",
       "    </tr>\n",
       "    <tr>\n",
       "      <th>130438</th>\n",
       "      <td>MODEL Y</td>\n",
       "      <td>2023</td>\n",
       "    </tr>\n",
       "    <tr>\n",
       "      <th>130440</th>\n",
       "      <td>MODEL Y</td>\n",
       "      <td>2021</td>\n",
       "    </tr>\n",
       "    <tr>\n",
       "      <th>130441</th>\n",
       "      <td>MODEL X</td>\n",
       "      <td>2020</td>\n",
       "    </tr>\n",
       "    <tr>\n",
       "      <th>130442</th>\n",
       "      <td>MODEL 3</td>\n",
       "      <td>2021</td>\n",
       "    </tr>\n",
       "  </tbody>\n",
       "</table>\n",
       "<p>59629 rows × 2 columns</p>\n",
       "</div>"
      ],
      "text/plain": [
       "          Model  Model Year\n",
       "0       MODEL X        2018\n",
       "2       MODEL 3        2019\n",
       "4       MODEL S        2017\n",
       "9       MODEL S        2013\n",
       "11      MODEL Y        2022\n",
       "...         ...         ...\n",
       "130436  MODEL 3        2018\n",
       "130438  MODEL Y        2023\n",
       "130440  MODEL Y        2021\n",
       "130441  MODEL X        2020\n",
       "130442  MODEL 3        2021\n",
       "\n",
       "[59629 rows x 2 columns]"
      ]
     },
     "execution_count": 66,
     "metadata": {},
     "output_type": "execute_result"
    }
   ],
   "source": [
    "# ● Get all TESLA cars with the model year, and model type made in Bothell City.\n",
    "\n",
    "df[df['Make'] == 'TESLA'][['Model','Model Year']]"
   ]
  },
  {
   "cell_type": "code",
   "execution_count": null,
   "id": "fbe65df0-ccec-4f62-aad5-f5cdba938526",
   "metadata": {},
   "outputs": [],
   "source": [
    "# ● Get all the cars that have an electric range of more than 100, and were made after 2015\n",
    "\n",
    "df[(df['Electric Range']>100) & (df['Model Year'] >2015) ]"
   ]
  },
  {
   "cell_type": "code",
   "execution_count": 75,
   "id": "e27f54d0-df96-4c78-b186-a3e34273114c",
   "metadata": {},
   "outputs": [
    {
     "data": {
      "image/png": "[encoded data removed]",
      "text/plain": [
       "<Figure size 1000x600 with 1 Axes>"
      ]
     },
     "metadata": {},
     "output_type": "display_data"
    }
   ],
   "source": [
    "# ● Draw plots to show the distribution between city and electric vehicle type\n",
    "\n",
    "import seaborn as sns\n",
    "import matplotlib.pyplot as plt\n",
    "\n",
    "\n",
    "# Plot the distribution using a count plot\n",
    "plt.figure(figsize=(10, 6))\n",
    "sns.countplot(data=df, x='City', hue='Electric Vehicle Type')\n",
    "plt.xlabel('City')\n",
    "plt.ylabel('Count')\n",
    "plt.title('Distribution of Electric Vehicle Types by City')\n",
    "plt.legend(title='Electric Vehicle Type')\n",
    "plt.show()\n",
    "\n",
    "\n"
   ]
  },
  {
   "cell_type": "code",
   "execution_count": 80,
   "id": "44f1f9d0-c692-475e-ab5e-eeba84b140b4",
   "metadata": {},
   "outputs": [
    {
     "name": "stdout",
     "output_type": "stream",
     "text": [
      "                City                   Electric Vehicle Type  Count\n",
      "0           Aberdeen          Battery Electric Vehicle (BEV)     73\n",
      "3               Acme  Plug-in Hybrid Electric Vehicle (PHEV)      4\n",
      "4               Addy          Battery Electric Vehicle (BEV)      1\n",
      "6               Aiea  Plug-in Hybrid Electric Vehicle (PHEV)      1\n",
      "7     Airway Heights          Battery Electric Vehicle (BEV)     10\n",
      "...              ...                                     ...    ...\n",
      "1044          Yacolt          Battery Electric Vehicle (BEV)     19\n",
      "1046          Yakima          Battery Electric Vehicle (BEV)    309\n",
      "1048    Yarrow Point          Battery Electric Vehicle (BEV)    102\n",
      "1050            Yelm          Battery Electric Vehicle (BEV)    137\n",
      "1052          Zillah          Battery Electric Vehicle (BEV)     18\n",
      "\n",
      "[656 rows x 3 columns]\n"
     ]
    }
   ],
   "source": [
    "import pandas as pd\n",
    "\n",
    "\n",
    "# Group the DataFrame by 'City' and 'Vehicle Type' and count the occurrences\n",
    "grouped_df = df.groupby(['City', 'Electric Vehicle Type']).size().reset_index(name='Count')\n",
    "\n",
    "# Find the maximum sold vehicle type city-wise\n",
    "max_sold_df = grouped_df.groupby('City')['Count'].idxmax()\n",
    "max_sold_vehicle_types = grouped_df.loc[max_sold_df, ['City', 'Electric Vehicle Type', 'Count']]\n",
    "\n",
    "# Print the maximum sold vehicle type city-wise\n",
    "print(max_sold_vehicle_types)\n"
   ]
  },
  {
   "cell_type": "code",
   "execution_count": 94,
   "id": "127831af-a83c-47d5-999d-95f2ac921a34",
   "metadata": {},
   "outputs": [
    {
     "data": {
      "text/plain": [
       "City                                            Seattle\n",
       "Electric Vehicle Type    Battery Electric Vehicle (BEV)\n",
       "Count                                             17851\n",
       "Name: 823, dtype: object"
      ]
     },
     "execution_count": 94,
     "metadata": {},
     "output_type": "execute_result"
    }
   ],
   "source": [
    "max_sold_vehicle_types.loc[max_sold_vehicle_types['Count'].idxmax()]"
   ]
  },
  {
   "cell_type": "code",
   "execution_count": 87,
   "id": "3df73f78-a36c-4469-af96-8fca2a8c5a70",
   "metadata": {},
   "outputs": [
    {
     "data": {
      "text/html": [
       "<div>\n",
       "<style scoped>\n",
       "    .dataframe tbody tr th:only-of-type {\n",
       "        vertical-align: middle;\n",
       "    }\n",
       "\n",
       "    .dataframe tbody tr th {\n",
       "        vertical-align: top;\n",
       "    }\n",
       "\n",
       "    .dataframe thead th {\n",
       "        text-align: right;\n",
       "    }\n",
       "</style>\n",
       "<table border=\"1\" class=\"dataframe\">\n",
       "  <thead>\n",
       "    <tr style=\"text-align: right;\">\n",
       "      <th></th>\n",
       "      <th></th>\n",
       "      <th>VIN (1-10)</th>\n",
       "      <th>County</th>\n",
       "      <th>State</th>\n",
       "      <th>Postal Code</th>\n",
       "      <th>Model Year</th>\n",
       "      <th>Make</th>\n",
       "      <th>Model</th>\n",
       "      <th>Clean Alternative Fuel Vehicle (CAFV) Eligibility</th>\n",
       "      <th>Electric Range</th>\n",
       "      <th>Base MSRP</th>\n",
       "      <th>Legislative District</th>\n",
       "      <th>DOL Vehicle ID</th>\n",
       "      <th>Vehicle Location</th>\n",
       "      <th>Electric Utility</th>\n",
       "      <th>2020 Census Tract</th>\n",
       "    </tr>\n",
       "    <tr>\n",
       "      <th>Electric Vehicle Type</th>\n",
       "      <th>City</th>\n",
       "      <th></th>\n",
       "      <th></th>\n",
       "      <th></th>\n",
       "      <th></th>\n",
       "      <th></th>\n",
       "      <th></th>\n",
       "      <th></th>\n",
       "      <th></th>\n",
       "      <th></th>\n",
       "      <th></th>\n",
       "      <th></th>\n",
       "      <th></th>\n",
       "      <th></th>\n",
       "      <th></th>\n",
       "      <th></th>\n",
       "    </tr>\n",
       "  </thead>\n",
       "  <tbody>\n",
       "    <tr>\n",
       "      <th rowspan=\"5\" valign=\"top\">Battery Electric Vehicle (BEV)</th>\n",
       "      <th>Aberdeen</th>\n",
       "      <td>73</td>\n",
       "      <td>73</td>\n",
       "      <td>73</td>\n",
       "      <td>73</td>\n",
       "      <td>73</td>\n",
       "      <td>73</td>\n",
       "      <td>72</td>\n",
       "      <td>73</td>\n",
       "      <td>73</td>\n",
       "      <td>73</td>\n",
       "      <td>73</td>\n",
       "      <td>73</td>\n",
       "      <td>73</td>\n",
       "      <td>73</td>\n",
       "      <td>73</td>\n",
       "    </tr>\n",
       "    <tr>\n",
       "      <th>Acme</th>\n",
       "      <td>3</td>\n",
       "      <td>3</td>\n",
       "      <td>3</td>\n",
       "      <td>3</td>\n",
       "      <td>3</td>\n",
       "      <td>3</td>\n",
       "      <td>3</td>\n",
       "      <td>3</td>\n",
       "      <td>3</td>\n",
       "      <td>3</td>\n",
       "      <td>3</td>\n",
       "      <td>3</td>\n",
       "      <td>3</td>\n",
       "      <td>3</td>\n",
       "      <td>3</td>\n",
       "    </tr>\n",
       "    <tr>\n",
       "      <th>Addy</th>\n",
       "      <td>1</td>\n",
       "      <td>1</td>\n",
       "      <td>1</td>\n",
       "      <td>1</td>\n",
       "      <td>1</td>\n",
       "      <td>1</td>\n",
       "      <td>1</td>\n",
       "      <td>1</td>\n",
       "      <td>1</td>\n",
       "      <td>1</td>\n",
       "      <td>1</td>\n",
       "      <td>1</td>\n",
       "      <td>1</td>\n",
       "      <td>1</td>\n",
       "      <td>1</td>\n",
       "    </tr>\n",
       "    <tr>\n",
       "      <th>Airway Heights</th>\n",
       "      <td>10</td>\n",
       "      <td>10</td>\n",
       "      <td>10</td>\n",
       "      <td>10</td>\n",
       "      <td>10</td>\n",
       "      <td>10</td>\n",
       "      <td>10</td>\n",
       "      <td>10</td>\n",
       "      <td>10</td>\n",
       "      <td>10</td>\n",
       "      <td>10</td>\n",
       "      <td>10</td>\n",
       "      <td>10</td>\n",
       "      <td>10</td>\n",
       "      <td>10</td>\n",
       "    </tr>\n",
       "    <tr>\n",
       "      <th>Alderdale</th>\n",
       "      <td>1</td>\n",
       "      <td>1</td>\n",
       "      <td>1</td>\n",
       "      <td>1</td>\n",
       "      <td>1</td>\n",
       "      <td>1</td>\n",
       "      <td>1</td>\n",
       "      <td>1</td>\n",
       "      <td>1</td>\n",
       "      <td>1</td>\n",
       "      <td>1</td>\n",
       "      <td>1</td>\n",
       "      <td>1</td>\n",
       "      <td>1</td>\n",
       "      <td>1</td>\n",
       "    </tr>\n",
       "    <tr>\n",
       "      <th>...</th>\n",
       "      <th>...</th>\n",
       "      <td>...</td>\n",
       "      <td>...</td>\n",
       "      <td>...</td>\n",
       "      <td>...</td>\n",
       "      <td>...</td>\n",
       "      <td>...</td>\n",
       "      <td>...</td>\n",
       "      <td>...</td>\n",
       "      <td>...</td>\n",
       "      <td>...</td>\n",
       "      <td>...</td>\n",
       "      <td>...</td>\n",
       "      <td>...</td>\n",
       "      <td>...</td>\n",
       "      <td>...</td>\n",
       "    </tr>\n",
       "    <tr>\n",
       "      <th rowspan=\"5\" valign=\"top\">Plug-in Hybrid Electric Vehicle (PHEV)</th>\n",
       "      <th>Yacolt</th>\n",
       "      <td>13</td>\n",
       "      <td>13</td>\n",
       "      <td>13</td>\n",
       "      <td>13</td>\n",
       "      <td>13</td>\n",
       "      <td>13</td>\n",
       "      <td>13</td>\n",
       "      <td>13</td>\n",
       "      <td>13</td>\n",
       "      <td>13</td>\n",
       "      <td>13</td>\n",
       "      <td>13</td>\n",
       "      <td>13</td>\n",
       "      <td>13</td>\n",
       "      <td>13</td>\n",
       "    </tr>\n",
       "    <tr>\n",
       "      <th>Yakima</th>\n",
       "      <td>162</td>\n",
       "      <td>162</td>\n",
       "      <td>162</td>\n",
       "      <td>162</td>\n",
       "      <td>162</td>\n",
       "      <td>162</td>\n",
       "      <td>162</td>\n",
       "      <td>162</td>\n",
       "      <td>162</td>\n",
       "      <td>162</td>\n",
       "      <td>162</td>\n",
       "      <td>162</td>\n",
       "      <td>162</td>\n",
       "      <td>162</td>\n",
       "      <td>162</td>\n",
       "    </tr>\n",
       "    <tr>\n",
       "      <th>Yarrow Point</th>\n",
       "      <td>24</td>\n",
       "      <td>24</td>\n",
       "      <td>24</td>\n",
       "      <td>24</td>\n",
       "      <td>24</td>\n",
       "      <td>24</td>\n",
       "      <td>24</td>\n",
       "      <td>24</td>\n",
       "      <td>24</td>\n",
       "      <td>24</td>\n",
       "      <td>24</td>\n",
       "      <td>24</td>\n",
       "      <td>24</td>\n",
       "      <td>24</td>\n",
       "      <td>24</td>\n",
       "    </tr>\n",
       "    <tr>\n",
       "      <th>Yelm</th>\n",
       "      <td>60</td>\n",
       "      <td>60</td>\n",
       "      <td>60</td>\n",
       "      <td>60</td>\n",
       "      <td>60</td>\n",
       "      <td>60</td>\n",
       "      <td>60</td>\n",
       "      <td>60</td>\n",
       "      <td>60</td>\n",
       "      <td>60</td>\n",
       "      <td>60</td>\n",
       "      <td>60</td>\n",
       "      <td>60</td>\n",
       "      <td>60</td>\n",
       "      <td>60</td>\n",
       "    </tr>\n",
       "    <tr>\n",
       "      <th>Zillah</th>\n",
       "      <td>5</td>\n",
       "      <td>5</td>\n",
       "      <td>5</td>\n",
       "      <td>5</td>\n",
       "      <td>5</td>\n",
       "      <td>5</td>\n",
       "      <td>5</td>\n",
       "      <td>5</td>\n",
       "      <td>5</td>\n",
       "      <td>5</td>\n",
       "      <td>5</td>\n",
       "      <td>5</td>\n",
       "      <td>5</td>\n",
       "      <td>5</td>\n",
       "      <td>5</td>\n",
       "    </tr>\n",
       "  </tbody>\n",
       "</table>\n",
       "<p>1054 rows × 15 columns</p>\n",
       "</div>"
      ],
      "text/plain": [
       "                                                       VIN (1-10)  County  \\\n",
       "Electric Vehicle Type                  City                                 \n",
       "Battery Electric Vehicle (BEV)         Aberdeen                73      73   \n",
       "                                       Acme                     3       3   \n",
       "                                       Addy                     1       1   \n",
       "                                       Airway Heights          10      10   \n",
       "                                       Alderdale                1       1   \n",
       "...                                                           ...     ...   \n",
       "Plug-in Hybrid Electric Vehicle (PHEV) Yacolt                  13      13   \n",
       "                                       Yakima                 162     162   \n",
       "                                       Yarrow Point            24      24   \n",
       "                                       Yelm                    60      60   \n",
       "                                       Zillah                   5       5   \n",
       "\n",
       "                                                       State  Postal Code  \\\n",
       "Electric Vehicle Type                  City                                 \n",
       "Battery Electric Vehicle (BEV)         Aberdeen           73           73   \n",
       "                                       Acme                3            3   \n",
       "                                       Addy                1            1   \n",
       "                                       Airway Heights     10           10   \n",
       "                                       Alderdale           1            1   \n",
       "...                                                      ...          ...   \n",
       "Plug-in Hybrid Electric Vehicle (PHEV) Yacolt             13           13   \n",
       "                                       Yakima            162          162   \n",
       "                                       Yarrow Point       24           24   \n",
       "                                       Yelm               60           60   \n",
       "                                       Zillah              5            5   \n",
       "\n",
       "                                                       Model Year  Make  \\\n",
       "Electric Vehicle Type                  City                               \n",
       "Battery Electric Vehicle (BEV)         Aberdeen                73    73   \n",
       "                                       Acme                     3     3   \n",
       "                                       Addy                     1     1   \n",
       "                                       Airway Heights          10    10   \n",
       "                                       Alderdale                1     1   \n",
       "...                                                           ...   ...   \n",
       "Plug-in Hybrid Electric Vehicle (PHEV) Yacolt                  13    13   \n",
       "                                       Yakima                 162   162   \n",
       "                                       Yarrow Point            24    24   \n",
       "                                       Yelm                    60    60   \n",
       "                                       Zillah                   5     5   \n",
       "\n",
       "                                                       Model  \\\n",
       "Electric Vehicle Type                  City                    \n",
       "Battery Electric Vehicle (BEV)         Aberdeen           72   \n",
       "                                       Acme                3   \n",
       "                                       Addy                1   \n",
       "                                       Airway Heights     10   \n",
       "                                       Alderdale           1   \n",
       "...                                                      ...   \n",
       "Plug-in Hybrid Electric Vehicle (PHEV) Yacolt             13   \n",
       "                                       Yakima            162   \n",
       "                                       Yarrow Point       24   \n",
       "                                       Yelm               60   \n",
       "                                       Zillah              5   \n",
       "\n",
       "                                                       Clean Alternative Fuel Vehicle (CAFV) Eligibility  \\\n",
       "Electric Vehicle Type                  City                                                                \n",
       "Battery Electric Vehicle (BEV)         Aberdeen                                                       73   \n",
       "                                       Acme                                                            3   \n",
       "                                       Addy                                                            1   \n",
       "                                       Airway Heights                                                 10   \n",
       "                                       Alderdale                                                       1   \n",
       "...                                                                                                  ...   \n",
       "Plug-in Hybrid Electric Vehicle (PHEV) Yacolt                                                         13   \n",
       "                                       Yakima                                                        162   \n",
       "                                       Yarrow Point                                                   24   \n",
       "                                       Yelm                                                           60   \n",
       "                                       Zillah                                                          5   \n",
       "\n",
       "                                                       Electric Range  \\\n",
       "Electric Vehicle Type                  City                             \n",
       "Battery Electric Vehicle (BEV)         Aberdeen                    73   \n",
       "                                       Acme                         3   \n",
       "                                       Addy                         1   \n",
       "                                       Airway Heights              10   \n",
       "                                       Alderdale                    1   \n",
       "...                                                               ...   \n",
       "Plug-in Hybrid Electric Vehicle (PHEV) Yacolt                      13   \n",
       "                                       Yakima                     162   \n",
       "                                       Yarrow Point                24   \n",
       "                                       Yelm                        60   \n",
       "                                       Zillah                       5   \n",
       "\n",
       "                                                       Base MSRP  \\\n",
       "Electric Vehicle Type                  City                        \n",
       "Battery Electric Vehicle (BEV)         Aberdeen               73   \n",
       "                                       Acme                    3   \n",
       "                                       Addy                    1   \n",
       "                                       Airway Heights         10   \n",
       "                                       Alderdale               1   \n",
       "...                                                          ...   \n",
       "Plug-in Hybrid Electric Vehicle (PHEV) Yacolt                 13   \n",
       "                                       Yakima                162   \n",
       "                                       Yarrow Point           24   \n",
       "                                       Yelm                   60   \n",
       "                                       Zillah                  5   \n",
       "\n",
       "                                                       Legislative District  \\\n",
       "Electric Vehicle Type                  City                                   \n",
       "Battery Electric Vehicle (BEV)         Aberdeen                          73   \n",
       "                                       Acme                               3   \n",
       "                                       Addy                               1   \n",
       "                                       Airway Heights                    10   \n",
       "                                       Alderdale                          1   \n",
       "...                                                                     ...   \n",
       "Plug-in Hybrid Electric Vehicle (PHEV) Yacolt                            13   \n",
       "                                       Yakima                           162   \n",
       "                                       Yarrow Point                      24   \n",
       "                                       Yelm                              60   \n",
       "                                       Zillah                             5   \n",
       "\n",
       "                                                       DOL Vehicle ID  \\\n",
       "Electric Vehicle Type                  City                             \n",
       "Battery Electric Vehicle (BEV)         Aberdeen                    73   \n",
       "                                       Acme                         3   \n",
       "                                       Addy                         1   \n",
       "                                       Airway Heights              10   \n",
       "                                       Alderdale                    1   \n",
       "...                                                               ...   \n",
       "Plug-in Hybrid Electric Vehicle (PHEV) Yacolt                      13   \n",
       "                                       Yakima                     162   \n",
       "                                       Yarrow Point                24   \n",
       "                                       Yelm                        60   \n",
       "                                       Zillah                       5   \n",
       "\n",
       "                                                       Vehicle Location  \\\n",
       "Electric Vehicle Type                  City                               \n",
       "Battery Electric Vehicle (BEV)         Aberdeen                      73   \n",
       "                                       Acme                           3   \n",
       "                                       Addy                           1   \n",
       "                                       Airway Heights                10   \n",
       "                                       Alderdale                      1   \n",
       "...                                                                 ...   \n",
       "Plug-in Hybrid Electric Vehicle (PHEV) Yacolt                        13   \n",
       "                                       Yakima                       162   \n",
       "                                       Yarrow Point                  24   \n",
       "                                       Yelm                          60   \n",
       "                                       Zillah                         5   \n",
       "\n",
       "                                                       Electric Utility  \\\n",
       "Electric Vehicle Type                  City                               \n",
       "Battery Electric Vehicle (BEV)         Aberdeen                      73   \n",
       "                                       Acme                           3   \n",
       "                                       Addy                           1   \n",
       "                                       Airway Heights                10   \n",
       "                                       Alderdale                      1   \n",
       "...                                                                 ...   \n",
       "Plug-in Hybrid Electric Vehicle (PHEV) Yacolt                        13   \n",
       "                                       Yakima                       162   \n",
       "                                       Yarrow Point                  24   \n",
       "                                       Yelm                          60   \n",
       "                                       Zillah                         5   \n",
       "\n",
       "                                                       2020 Census Tract  \n",
       "Electric Vehicle Type                  City                               \n",
       "Battery Electric Vehicle (BEV)         Aberdeen                       73  \n",
       "                                       Acme                            3  \n",
       "                                       Addy                            1  \n",
       "                                       Airway Heights                 10  \n",
       "                                       Alderdale                       1  \n",
       "...                                                                  ...  \n",
       "Plug-in Hybrid Electric Vehicle (PHEV) Yacolt                         13  \n",
       "                                       Yakima                        162  \n",
       "                                       Yarrow Point                   24  \n",
       "                                       Yelm                           60  \n",
       "                                       Zillah                          5  \n",
       "\n",
       "[1054 rows x 15 columns]"
      ]
     },
     "execution_count": 87,
     "metadata": {},
     "output_type": "execute_result"
    }
   ],
   "source": [
    "df.groupby(['Electric Vehicle Type','City']).count()"
   ]
  },
  {
   "cell_type": "markdown",
   "id": "51cb4b0c-8f56-41cf-96c8-9efcc224c2fe",
   "metadata": {},
   "source": [
    "# Q-10\n"
   ]
  },
  {
   "cell_type": "raw",
   "id": "a65a1e8e-7d86-4702-ac1b-2acd94b31919",
   "metadata": {},
   "source": [
    "Question 10 -\n",
    "Write a program to count the number of verbs, nouns, pronouns, and adjectives in a given particular phrase or\n",
    "paragraph, and return their respective count as a dictionary.\n",
    "Note -\n",
    "1. Write code comments wherever required for code\n",
    "2. You have to write at least 2 additional test cases in which your program will run successfully and provide\n",
    "an explanation for the same."
   ]
  },
  {
   "cell_type": "code",
   "execution_count": 103,
   "id": "9a3323a3-2749-4829-90dd-750506d7d815",
   "metadata": {},
   "outputs": [],
   "source": [
    "# !pip install spacy\n",
    "# !python -m spacy download en_core_web_sm\n"
   ]
  },
  {
   "cell_type": "code",
   "execution_count": null,
   "id": "4229d759-0505-498b-88c9-e23fb20a7719",
   "metadata": {},
   "outputs": [],
   "source": []
  },
  {
   "cell_type": "code",
   "execution_count": 104,
   "id": "db55992e-88b4-4457-83db-39d3c9da47ec",
   "metadata": {},
   "outputs": [
    {
     "name": "stdout",
     "output_type": "stream",
     "text": [
      "{'Verbs': 1, 'Nouns': 2, 'Pronouns': 0, 'Adjectives': 0}\n",
      "{'Verbs': 1, 'Nouns': 1, 'Pronouns': 1, 'Adjectives': 1}\n"
     ]
    }
   ],
   "source": [
    "import spacy\n",
    "\n",
    "def count_pos_tags(text):\n",
    "    # Load the English language model in spaCy\n",
    "    spacy.prefer_gpu()\n",
    "    nlp = spacy.load(\"en_core_web_sm\")\n",
    "    \n",
    "    # Process the text\n",
    "    doc = nlp(text)\n",
    "    \n",
    "    # Initialize counters for verbs, nouns, pronouns, and adjectives\n",
    "    verb_count = 0\n",
    "    noun_count = 0\n",
    "    pronoun_count = 0\n",
    "    adjective_count = 0\n",
    "    \n",
    "    # Iterate over each token in the document\n",
    "    for token in doc:\n",
    "        # Check the part-of-speech tag of the token\n",
    "        if token.pos_ == 'VERB':\n",
    "            verb_count += 1\n",
    "        elif token.pos_ == 'NOUN':\n",
    "            noun_count += 1\n",
    "        elif token.pos_ == 'PRON':\n",
    "            pronoun_count += 1\n",
    "        elif token.pos_ == 'ADJ':\n",
    "            adjective_count += 1\n",
    "    \n",
    "    # Create a dictionary with the count of each part of speech\n",
    "    pos_counts = {\n",
    "        'Verbs': verb_count,\n",
    "        'Nouns': noun_count,\n",
    "        'Pronouns': pronoun_count,\n",
    "        'Adjectives': adjective_count\n",
    "    }\n",
    "    \n",
    "    return pos_counts\n",
    "\n",
    "# Test cases\n",
    "text1 = \"The cat chased the mouse\"\n",
    "pos_counts1 = count_pos_tags(text1)\n",
    "print(pos_counts1)  \n",
    "\n",
    "text2 = \"She is eating a delicious pizza\"\n",
    "pos_counts2 = count_pos_tags(text2)\n",
    "print(pos_counts2)  \n"
   ]
  },
  {
   "cell_type": "code",
   "execution_count": null,
   "id": "08ef4ae8-9339-49df-8024-e4b411d2e096",
   "metadata": {},
   "outputs": [],
   "source": []
  }
 ],
 "metadata": {
  "kernelspec": {
   "display_name": "Python 3 (ipykernel)",
   "language": "python",
   "name": "python3"
  },
  "language_info": {
   "codemirror_mode": {
    "name": "ipython",
    "version": 3
   },
   "file_extension": ".py",
   "mimetype": "text/x-python",
   "name": "python",
   "nbconvert_exporter": "python",
   "pygments_lexer": "ipython3",
   "version": "3.10.8"
  }
 },
 "nbformat": 4,
 "nbformat_minor": 5
}
